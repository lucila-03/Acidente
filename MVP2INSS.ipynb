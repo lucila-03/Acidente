{
  "nbformat": 4,
  "nbformat_minor": 0,
  "metadata": {
    "colab": {
      "provenance": [],
      "collapsed_sections": [
        "mE4-PIaTAfKX"
      ],
      "toc_visible": true,
      "include_colab_link": true
    },
    "kernelspec": {
      "name": "python3",
      "display_name": "Python 3"
    }
  },
  "cells": [
    {
      "cell_type": "markdown",
      "metadata": {
        "id": "view-in-github",
        "colab_type": "text"
      },
      "source": [
        "<a href=\"https://colab.research.google.com/github/lucila-03/Acidente/blob/main/MVP2INSS.ipynb\" target=\"_parent\"><img src=\"https://colab.research.google.com/assets/colab-badge.svg\" alt=\"Open In Colab\"/></a>"
      ]
    },
    {
      "cell_type": "markdown",
      "metadata": {
        "id": "otEdveLq8Hn0"
      },
      "source": [
        "# MVP para Análise de Informações do INSS\n",
        "## Lucila da Conceição Castello Branco\n"
      ]
    },
    {
      "cell_type": "markdown",
      "source": [
        "O que não está detalhado ou pode ser melhorado neste notebook para ficar como esperamos para o MVP:\n",
        "- Blocos de texto que expliquem textualmente cada etapa e cada decisão do seu código, contando uma história completa e compreensível, do início ao fim;\n",
        "- Boas práticas de codificação;\n",
        "- Após cada gráfico, escrever 1 parágrafo resumindo os principais achados, analisando os resultados e levantando eventuais pontos de atenção."
      ],
      "metadata": {
        "id": "H4gt9EHwtMri"
      }
    },
    {
      "cell_type": "markdown",
      "metadata": {
        "id": "z1PEQEdZ9zm4"
      },
      "source": [
        "## 1. Definição do Problema *"
      ]
    },
    {
      "cell_type": "markdown",
      "metadata": {
        "id": "HDcdO4yx9db6"
      },
      "source": [
        "O dataset usado neste projeto será um arquivo do governo com informações da Comunicação de Acidentes de Trabalho (CAT), são somente as informações que governo disponibiliza, o arquivo estava guardado e foi modificado para ter somente informações relevantes para análise de acidentes de Janeiro e Fevereiro de 2019. O objetivo deste projeto é conhecer os tipos de acidentados em janeiro e fevereiro de 2019.\n",
        "\n",
        "**Informações sobre os atributos:**\n",
        "1. **Data Acidente** - Mês e ano da ocorrência\n",
        "2. **Parte Corpo** - parte do corpo lesionado\n",
        "3. **Sexo** - Masculino / Feminino\n",
        "4. **Tipo de acidente** - Os acidentes são classificados conforme o tipo de ocorrência, pode ser típicos ( quando ocorreu na execução do trabalho) ou trajeto ( em deslocamento entre trabalho e casa ou deslocamento no almoço)\n",
        "5. **UF  Munic.  Acidente** - localização(Estado) que o funcionário estava quando se acidentou.\n",
        "6. **UF Munic. Empregador** - localização(Estado) que a empresa trabalha\n",
        "7. **Idade** - idade (anos) do acidentado no dia so acidente"
      ]
    },
    {
      "cell_type": "code",
      "metadata": {
        "id": "RCn8CH4M7wF-"
      },
      "source": [
        "# Importação dos pacotes\n",
        "import pandas as pd\n",
        "import numpy as np\n",
        "import matplotlib\n",
        "import matplotlib.pyplot as plt\n",
        "import seaborn as sns\n",
        "import statistics\n",
        "\n",
        "from pandas.core.dtypes.common import is_int64_dtype\n",
        "from matplotlib import cm\n",
        "from pandas import set_option\n",
        "from pandas.plotting import scatter_matrix\n",
        "from sklearn.preprocessing import StandardScaler\n",
        "from sklearn.preprocessing import MinMaxScaler\n",
        "from sklearn.model_selection import train_test_split\n",
        "from sklearn.model_selection import KFold\n",
        "from sklearn.model_selection import StratifiedKFold\n",
        "from sklearn.model_selection import cross_val_score\n",
        "from sklearn.model_selection import GridSearchCV\n",
        "from sklearn.metrics import classification_report\n",
        "from sklearn.metrics import confusion_matrix\n",
        "from sklearn.metrics import accuracy_score\n",
        "from sklearn.pipeline import Pipeline\n",
        "from sklearn.linear_model import LogisticRegression\n",
        "from sklearn.tree import DecisionTreeClassifier\n",
        "from sklearn.neighbors import KNeighborsClassifier\n",
        "from sklearn.naive_bayes import GaussianNB\n",
        "from sklearn.svm import SVC\n",
        "from sklearn.ensemble import BaggingClassifier\n",
        "from sklearn.ensemble import RandomForestClassifier\n",
        "from sklearn.ensemble import ExtraTreesClassifier\n",
        "from sklearn.ensemble import VotingClassifier\n",
        "from sklearn.ensemble import AdaBoostClassifier\n",
        "from sklearn.ensemble import GradientBoostingClassifier"
      ],
      "execution_count": null,
      "outputs": []
    },
    {
      "cell_type": "markdown",
      "metadata": {
        "id": "2PcB0Efd-MS4"
      },
      "source": [
        "## 2. Carga de Dados"
      ]
    },
    {
      "cell_type": "code",
      "metadata": {
        "id": "29AFuCPtvG_i"
      },
      "source": [
        "# Carrega arquivo csv usando Pandas usando uma URL\n",
        "\n",
        "# Importação do dataset\n",
        "\n",
        "url = \"https://raw.githubusercontent.com/lucila-03/Acidente/main/dataset%20cat.csv\"\n",
        "dataset = pd.read_csv(url, delimiter = \";\", encoding='ISO-8859-1' )\n"
      ],
      "execution_count": null,
      "outputs": []
    },
    {
      "cell_type": "markdown",
      "metadata": {
        "id": "KBSgQt_z_TnV"
      },
      "source": [
        "## 3. Análise de Dados e tratamento"
      ]
    },
    {
      "cell_type": "markdown",
      "metadata": {
        "id": "bqINv-wo_Xfe"
      },
      "source": [
        "Será realizado um levantamento dos tipos de dados, análise e ajustes para que a base de dados fique pronta para o estudo."
      ]
    },
    {
      "cell_type": "code",
      "metadata": {
        "id": "zF3f00Zl_g7j",
        "colab": {
          "base_uri": "https://localhost:8080/"
        },
        "outputId": "b20de995-e5a7-43a0-b6a5-d8d0bf7c280f"
      },
      "source": [
        "# Mostra as dimensões do dataset\n",
        "dataset.shape"
      ],
      "execution_count": null,
      "outputs": [
        {
          "output_type": "execute_result",
          "data": {
            "text/plain": [
              "(77985, 7)"
            ]
          },
          "metadata": {},
          "execution_count": 25
        }
      ]
    },
    {
      "cell_type": "code",
      "metadata": {
        "id": "UUjmUTEOwQZt",
        "colab": {
          "base_uri": "https://localhost:8080/"
        },
        "outputId": "e3a7ebe9-41e8-405c-b781-7752a22c6ab8"
      },
      "source": [
        "# Mostra as informações do dataset\n",
        "dataset.info()"
      ],
      "execution_count": null,
      "outputs": [
        {
          "output_type": "stream",
          "name": "stdout",
          "text": [
            "<class 'pandas.core.frame.DataFrame'>\n",
            "RangeIndex: 77985 entries, 0 to 77984\n",
            "Data columns (total 7 columns):\n",
            " #   Column                Non-Null Count  Dtype \n",
            "---  ------                --------------  ----- \n",
            " 0   Data Acidente         77985 non-null  object\n",
            " 1   Parte Corpo Atingida  77985 non-null  object\n",
            " 2   Sexo                  77985 non-null  object\n",
            " 3   Tipo do Acidente      77985 non-null  object\n",
            " 4   UF  Munic.  Acidente  54146 non-null  object\n",
            " 5   UF Munic. Empregador  77985 non-null  object\n",
            " 6   Idade                 77985 non-null  int64 \n",
            "dtypes: int64(1), object(6)\n",
            "memory usage: 4.2+ MB\n"
          ]
        }
      ]
    },
    {
      "cell_type": "markdown",
      "source": [
        "Foi identificado que algumas colunas precisam mudar de atributo."
      ],
      "metadata": {
        "id": "T_ZvL5qa3ZFj"
      }
    },
    {
      "cell_type": "code",
      "source": [
        "# Alterar atributo para data\n",
        "dataset['Data Acidente'] = pd.to_datetime(dataset['Data Acidente'])\n"
      ],
      "metadata": {
        "id": "espbhQpx4DaB"
      },
      "execution_count": null,
      "outputs": []
    },
    {
      "cell_type": "markdown",
      "source": [
        "Para dar andamento ao projeto é necessario trocar todas as opções para números."
      ],
      "metadata": {
        "id": "pBMDs9w7UdHf"
      }
    },
    {
      "cell_type": "code",
      "source": [
        "# Faz o levantamento de todas as opções das colunas\n",
        "\n",
        "#for column in pd.DataFrame(dataset).columns:\n",
        "   # unique_options = pd.DataFrame(dataset)[column].unique()\n",
        "  #  print(f\"Coluna '{column}':\")\n",
        "   # print(unique_options)\n",
        " #   print()"
      ],
      "metadata": {
        "id": "D-g-XjuTUwac"
      },
      "execution_count": null,
      "outputs": []
    },
    {
      "cell_type": "code",
      "source": [
        "#Alterar atributo Parte Corpo Atingida\n",
        "\n"
      ],
      "metadata": {
        "id": "9ALXIMAgUEsf"
      },
      "execution_count": null,
      "outputs": []
    },
    {
      "cell_type": "code",
      "source": [
        "#Alterar tipo de acidente"
      ],
      "metadata": {
        "id": "boG6d9nRXCFJ"
      },
      "execution_count": null,
      "outputs": []
    },
    {
      "cell_type": "code",
      "source": [
        "dataset.info()"
      ],
      "metadata": {
        "id": "-aiX6oBJTNnL",
        "outputId": "efce1b2f-a8b2-4d58-9cf1-d6b1d179292f",
        "colab": {
          "base_uri": "https://localhost:8080/"
        }
      },
      "execution_count": null,
      "outputs": [
        {
          "output_type": "stream",
          "name": "stdout",
          "text": [
            "<class 'pandas.core.frame.DataFrame'>\n",
            "RangeIndex: 77985 entries, 0 to 77984\n",
            "Data columns (total 7 columns):\n",
            " #   Column                Non-Null Count  Dtype         \n",
            "---  ------                --------------  -----         \n",
            " 0   Data Acidente         77985 non-null  datetime64[ns]\n",
            " 1   Parte Corpo Atingida  77985 non-null  object        \n",
            " 2   Sexo                  77985 non-null  object        \n",
            " 3   Tipo do Acidente      77985 non-null  object        \n",
            " 4   UF  Munic.  Acidente  77985 non-null  object        \n",
            " 5   UF Munic. Empregador  77985 non-null  object        \n",
            " 6   Idade                 77985 non-null  int64         \n",
            "dtypes: datetime64[ns](1), int64(1), object(5)\n",
            "memory usage: 4.2+ MB\n"
          ]
        }
      ]
    },
    {
      "cell_type": "code",
      "source": [
        "# Mostra as 5 primeiras linhas do dataset\n",
        "dataset.head(5)"
      ],
      "metadata": {
        "colab": {
          "base_uri": "https://localhost:8080/",
          "height": 206
        },
        "id": "iu9D7gpVS2jB",
        "outputId": "dd549957-6400-4bdf-ea19-c4cea4f689d7"
      },
      "execution_count": null,
      "outputs": [
        {
          "output_type": "execute_result",
          "data": {
            "text/plain": [
              "  Data Acidente  Parte Corpo Atingida                  Sexo  \\\n",
              "0       2019/01  Dedo                  Feminino               \n",
              "1       2019/01  Antebraco (Entre O P  Masculino              \n",
              "2       2019/01  Dorso (Inclusive Mus  Feminino               \n",
              "3       2019/01  Dedo                  Feminino               \n",
              "4       2019/01  Face, Partes Multipl  Feminino               \n",
              "\n",
              "       Tipo do Acidente  UF  Munic.  Acidente  UF Munic. Empregador  Idade  \n",
              "0  Típico                                 NaN  Espírito Santo           23  \n",
              "1  Típico                                 NaN  Rio Grande do Sul        26  \n",
              "2  Trajeto               Pará                  Pernambuco               35  \n",
              "3  Típico                Rondônia              Minas Gerais             30  \n",
              "4  Típico                                 NaN  Rio Grande do Sul        32  "
            ],
            "text/html": [
              "\n",
              "  <div id=\"df-4dc1c81f-ae9f-4cda-8e9b-5b841cc41dc5\">\n",
              "    <div class=\"colab-df-container\">\n",
              "      <div>\n",
              "<style scoped>\n",
              "    .dataframe tbody tr th:only-of-type {\n",
              "        vertical-align: middle;\n",
              "    }\n",
              "\n",
              "    .dataframe tbody tr th {\n",
              "        vertical-align: top;\n",
              "    }\n",
              "\n",
              "    .dataframe thead th {\n",
              "        text-align: right;\n",
              "    }\n",
              "</style>\n",
              "<table border=\"1\" class=\"dataframe\">\n",
              "  <thead>\n",
              "    <tr style=\"text-align: right;\">\n",
              "      <th></th>\n",
              "      <th>Data Acidente</th>\n",
              "      <th>Parte Corpo Atingida</th>\n",
              "      <th>Sexo</th>\n",
              "      <th>Tipo do Acidente</th>\n",
              "      <th>UF  Munic.  Acidente</th>\n",
              "      <th>UF Munic. Empregador</th>\n",
              "      <th>Idade</th>\n",
              "    </tr>\n",
              "  </thead>\n",
              "  <tbody>\n",
              "    <tr>\n",
              "      <th>0</th>\n",
              "      <td>2019/01</td>\n",
              "      <td>Dedo</td>\n",
              "      <td>Feminino</td>\n",
              "      <td>Típico</td>\n",
              "      <td>NaN</td>\n",
              "      <td>Espírito Santo</td>\n",
              "      <td>23</td>\n",
              "    </tr>\n",
              "    <tr>\n",
              "      <th>1</th>\n",
              "      <td>2019/01</td>\n",
              "      <td>Antebraco (Entre O P</td>\n",
              "      <td>Masculino</td>\n",
              "      <td>Típico</td>\n",
              "      <td>NaN</td>\n",
              "      <td>Rio Grande do Sul</td>\n",
              "      <td>26</td>\n",
              "    </tr>\n",
              "    <tr>\n",
              "      <th>2</th>\n",
              "      <td>2019/01</td>\n",
              "      <td>Dorso (Inclusive Mus</td>\n",
              "      <td>Feminino</td>\n",
              "      <td>Trajeto</td>\n",
              "      <td>Pará</td>\n",
              "      <td>Pernambuco</td>\n",
              "      <td>35</td>\n",
              "    </tr>\n",
              "    <tr>\n",
              "      <th>3</th>\n",
              "      <td>2019/01</td>\n",
              "      <td>Dedo</td>\n",
              "      <td>Feminino</td>\n",
              "      <td>Típico</td>\n",
              "      <td>Rondônia</td>\n",
              "      <td>Minas Gerais</td>\n",
              "      <td>30</td>\n",
              "    </tr>\n",
              "    <tr>\n",
              "      <th>4</th>\n",
              "      <td>2019/01</td>\n",
              "      <td>Face, Partes Multipl</td>\n",
              "      <td>Feminino</td>\n",
              "      <td>Típico</td>\n",
              "      <td>NaN</td>\n",
              "      <td>Rio Grande do Sul</td>\n",
              "      <td>32</td>\n",
              "    </tr>\n",
              "  </tbody>\n",
              "</table>\n",
              "</div>\n",
              "      <button class=\"colab-df-convert\" onclick=\"convertToInteractive('df-4dc1c81f-ae9f-4cda-8e9b-5b841cc41dc5')\"\n",
              "              title=\"Convert this dataframe to an interactive table.\"\n",
              "              style=\"display:none;\">\n",
              "        \n",
              "  <svg xmlns=\"http://www.w3.org/2000/svg\" height=\"24px\"viewBox=\"0 0 24 24\"\n",
              "       width=\"24px\">\n",
              "    <path d=\"M0 0h24v24H0V0z\" fill=\"none\"/>\n",
              "    <path d=\"M18.56 5.44l.94 2.06.94-2.06 2.06-.94-2.06-.94-.94-2.06-.94 2.06-2.06.94zm-11 1L8.5 8.5l.94-2.06 2.06-.94-2.06-.94L8.5 2.5l-.94 2.06-2.06.94zm10 10l.94 2.06.94-2.06 2.06-.94-2.06-.94-.94-2.06-.94 2.06-2.06.94z\"/><path d=\"M17.41 7.96l-1.37-1.37c-.4-.4-.92-.59-1.43-.59-.52 0-1.04.2-1.43.59L10.3 9.45l-7.72 7.72c-.78.78-.78 2.05 0 2.83L4 21.41c.39.39.9.59 1.41.59.51 0 1.02-.2 1.41-.59l7.78-7.78 2.81-2.81c.8-.78.8-2.07 0-2.86zM5.41 20L4 18.59l7.72-7.72 1.47 1.35L5.41 20z\"/>\n",
              "  </svg>\n",
              "      </button>\n",
              "      \n",
              "  <style>\n",
              "    .colab-df-container {\n",
              "      display:flex;\n",
              "      flex-wrap:wrap;\n",
              "      gap: 12px;\n",
              "    }\n",
              "\n",
              "    .colab-df-convert {\n",
              "      background-color: #E8F0FE;\n",
              "      border: none;\n",
              "      border-radius: 50%;\n",
              "      cursor: pointer;\n",
              "      display: none;\n",
              "      fill: #1967D2;\n",
              "      height: 32px;\n",
              "      padding: 0 0 0 0;\n",
              "      width: 32px;\n",
              "    }\n",
              "\n",
              "    .colab-df-convert:hover {\n",
              "      background-color: #E2EBFA;\n",
              "      box-shadow: 0px 1px 2px rgba(60, 64, 67, 0.3), 0px 1px 3px 1px rgba(60, 64, 67, 0.15);\n",
              "      fill: #174EA6;\n",
              "    }\n",
              "\n",
              "    [theme=dark] .colab-df-convert {\n",
              "      background-color: #3B4455;\n",
              "      fill: #D2E3FC;\n",
              "    }\n",
              "\n",
              "    [theme=dark] .colab-df-convert:hover {\n",
              "      background-color: #434B5C;\n",
              "      box-shadow: 0px 1px 3px 1px rgba(0, 0, 0, 0.15);\n",
              "      filter: drop-shadow(0px 1px 2px rgba(0, 0, 0, 0.3));\n",
              "      fill: #FFFFFF;\n",
              "    }\n",
              "  </style>\n",
              "\n",
              "      <script>\n",
              "        const buttonEl =\n",
              "          document.querySelector('#df-4dc1c81f-ae9f-4cda-8e9b-5b841cc41dc5 button.colab-df-convert');\n",
              "        buttonEl.style.display =\n",
              "          google.colab.kernel.accessAllowed ? 'block' : 'none';\n",
              "\n",
              "        async function convertToInteractive(key) {\n",
              "          const element = document.querySelector('#df-4dc1c81f-ae9f-4cda-8e9b-5b841cc41dc5');\n",
              "          const dataTable =\n",
              "            await google.colab.kernel.invokeFunction('convertToInteractive',\n",
              "                                                     [key], {});\n",
              "          if (!dataTable) return;\n",
              "\n",
              "          const docLinkHtml = 'Like what you see? Visit the ' +\n",
              "            '<a target=\"_blank\" href=https://colab.research.google.com/notebooks/data_table.ipynb>data table notebook</a>'\n",
              "            + ' to learn more about interactive tables.';\n",
              "          element.innerHTML = '';\n",
              "          dataTable['output_type'] = 'display_data';\n",
              "          await google.colab.output.renderOutput(dataTable, element);\n",
              "          const docLink = document.createElement('div');\n",
              "          docLink.innerHTML = docLinkHtml;\n",
              "          element.appendChild(docLink);\n",
              "        }\n",
              "      </script>\n",
              "    </div>\n",
              "  </div>\n",
              "  "
            ]
          },
          "metadata": {},
          "execution_count": 27
        }
      ]
    },
    {
      "cell_type": "markdown",
      "source": [
        "Foi identificado que os Estados dos acidentados apresentam inconsistências que precisam ser tratadas."
      ],
      "metadata": {
        "id": "I8Nok4zMoCKI"
      }
    },
    {
      "cell_type": "code",
      "source": [
        "# Função personalizada para substituir os dados sem informação\n",
        "dataset['UF  Munic.  Acidente'] = dataset['UF  Munic.  Acidente'].fillna(dataset['UF Munic. Empregador'])\n",
        "\n",
        "dataset.head(5)"
      ],
      "metadata": {
        "id": "HR1nqLz638ZC",
        "colab": {
          "base_uri": "https://localhost:8080/",
          "height": 206
        },
        "outputId": "11648b53-4cae-40f7-853f-24a9afbb17c3"
      },
      "execution_count": null,
      "outputs": [
        {
          "output_type": "execute_result",
          "data": {
            "text/plain": [
              "  Data Acidente  Parte Corpo Atingida                  Sexo  \\\n",
              "0       2019/01  Dedo                  Feminino               \n",
              "1       2019/01  Antebraco (Entre O P  Masculino              \n",
              "2       2019/01  Dorso (Inclusive Mus  Feminino               \n",
              "3       2019/01  Dedo                  Feminino               \n",
              "4       2019/01  Face, Partes Multipl  Feminino               \n",
              "\n",
              "       Tipo do Acidente  UF  Munic.  Acidente  UF Munic. Empregador  Idade  \n",
              "0  Típico                Espírito Santo        Espírito Santo           23  \n",
              "1  Típico                Rio Grande do Sul     Rio Grande do Sul        26  \n",
              "2  Trajeto               Pará                  Pernambuco               35  \n",
              "3  Típico                Rondônia              Minas Gerais             30  \n",
              "4  Típico                Rio Grande do Sul     Rio Grande do Sul        32  "
            ],
            "text/html": [
              "\n",
              "  <div id=\"df-06a58c4e-231e-4177-a75c-60837402b037\">\n",
              "    <div class=\"colab-df-container\">\n",
              "      <div>\n",
              "<style scoped>\n",
              "    .dataframe tbody tr th:only-of-type {\n",
              "        vertical-align: middle;\n",
              "    }\n",
              "\n",
              "    .dataframe tbody tr th {\n",
              "        vertical-align: top;\n",
              "    }\n",
              "\n",
              "    .dataframe thead th {\n",
              "        text-align: right;\n",
              "    }\n",
              "</style>\n",
              "<table border=\"1\" class=\"dataframe\">\n",
              "  <thead>\n",
              "    <tr style=\"text-align: right;\">\n",
              "      <th></th>\n",
              "      <th>Data Acidente</th>\n",
              "      <th>Parte Corpo Atingida</th>\n",
              "      <th>Sexo</th>\n",
              "      <th>Tipo do Acidente</th>\n",
              "      <th>UF  Munic.  Acidente</th>\n",
              "      <th>UF Munic. Empregador</th>\n",
              "      <th>Idade</th>\n",
              "    </tr>\n",
              "  </thead>\n",
              "  <tbody>\n",
              "    <tr>\n",
              "      <th>0</th>\n",
              "      <td>2019/01</td>\n",
              "      <td>Dedo</td>\n",
              "      <td>Feminino</td>\n",
              "      <td>Típico</td>\n",
              "      <td>Espírito Santo</td>\n",
              "      <td>Espírito Santo</td>\n",
              "      <td>23</td>\n",
              "    </tr>\n",
              "    <tr>\n",
              "      <th>1</th>\n",
              "      <td>2019/01</td>\n",
              "      <td>Antebraco (Entre O P</td>\n",
              "      <td>Masculino</td>\n",
              "      <td>Típico</td>\n",
              "      <td>Rio Grande do Sul</td>\n",
              "      <td>Rio Grande do Sul</td>\n",
              "      <td>26</td>\n",
              "    </tr>\n",
              "    <tr>\n",
              "      <th>2</th>\n",
              "      <td>2019/01</td>\n",
              "      <td>Dorso (Inclusive Mus</td>\n",
              "      <td>Feminino</td>\n",
              "      <td>Trajeto</td>\n",
              "      <td>Pará</td>\n",
              "      <td>Pernambuco</td>\n",
              "      <td>35</td>\n",
              "    </tr>\n",
              "    <tr>\n",
              "      <th>3</th>\n",
              "      <td>2019/01</td>\n",
              "      <td>Dedo</td>\n",
              "      <td>Feminino</td>\n",
              "      <td>Típico</td>\n",
              "      <td>Rondônia</td>\n",
              "      <td>Minas Gerais</td>\n",
              "      <td>30</td>\n",
              "    </tr>\n",
              "    <tr>\n",
              "      <th>4</th>\n",
              "      <td>2019/01</td>\n",
              "      <td>Face, Partes Multipl</td>\n",
              "      <td>Feminino</td>\n",
              "      <td>Típico</td>\n",
              "      <td>Rio Grande do Sul</td>\n",
              "      <td>Rio Grande do Sul</td>\n",
              "      <td>32</td>\n",
              "    </tr>\n",
              "  </tbody>\n",
              "</table>\n",
              "</div>\n",
              "      <button class=\"colab-df-convert\" onclick=\"convertToInteractive('df-06a58c4e-231e-4177-a75c-60837402b037')\"\n",
              "              title=\"Convert this dataframe to an interactive table.\"\n",
              "              style=\"display:none;\">\n",
              "        \n",
              "  <svg xmlns=\"http://www.w3.org/2000/svg\" height=\"24px\"viewBox=\"0 0 24 24\"\n",
              "       width=\"24px\">\n",
              "    <path d=\"M0 0h24v24H0V0z\" fill=\"none\"/>\n",
              "    <path d=\"M18.56 5.44l.94 2.06.94-2.06 2.06-.94-2.06-.94-.94-2.06-.94 2.06-2.06.94zm-11 1L8.5 8.5l.94-2.06 2.06-.94-2.06-.94L8.5 2.5l-.94 2.06-2.06.94zm10 10l.94 2.06.94-2.06 2.06-.94-2.06-.94-.94-2.06-.94 2.06-2.06.94z\"/><path d=\"M17.41 7.96l-1.37-1.37c-.4-.4-.92-.59-1.43-.59-.52 0-1.04.2-1.43.59L10.3 9.45l-7.72 7.72c-.78.78-.78 2.05 0 2.83L4 21.41c.39.39.9.59 1.41.59.51 0 1.02-.2 1.41-.59l7.78-7.78 2.81-2.81c.8-.78.8-2.07 0-2.86zM5.41 20L4 18.59l7.72-7.72 1.47 1.35L5.41 20z\"/>\n",
              "  </svg>\n",
              "      </button>\n",
              "      \n",
              "  <style>\n",
              "    .colab-df-container {\n",
              "      display:flex;\n",
              "      flex-wrap:wrap;\n",
              "      gap: 12px;\n",
              "    }\n",
              "\n",
              "    .colab-df-convert {\n",
              "      background-color: #E8F0FE;\n",
              "      border: none;\n",
              "      border-radius: 50%;\n",
              "      cursor: pointer;\n",
              "      display: none;\n",
              "      fill: #1967D2;\n",
              "      height: 32px;\n",
              "      padding: 0 0 0 0;\n",
              "      width: 32px;\n",
              "    }\n",
              "\n",
              "    .colab-df-convert:hover {\n",
              "      background-color: #E2EBFA;\n",
              "      box-shadow: 0px 1px 2px rgba(60, 64, 67, 0.3), 0px 1px 3px 1px rgba(60, 64, 67, 0.15);\n",
              "      fill: #174EA6;\n",
              "    }\n",
              "\n",
              "    [theme=dark] .colab-df-convert {\n",
              "      background-color: #3B4455;\n",
              "      fill: #D2E3FC;\n",
              "    }\n",
              "\n",
              "    [theme=dark] .colab-df-convert:hover {\n",
              "      background-color: #434B5C;\n",
              "      box-shadow: 0px 1px 3px 1px rgba(0, 0, 0, 0.15);\n",
              "      filter: drop-shadow(0px 1px 2px rgba(0, 0, 0, 0.3));\n",
              "      fill: #FFFFFF;\n",
              "    }\n",
              "  </style>\n",
              "\n",
              "      <script>\n",
              "        const buttonEl =\n",
              "          document.querySelector('#df-06a58c4e-231e-4177-a75c-60837402b037 button.colab-df-convert');\n",
              "        buttonEl.style.display =\n",
              "          google.colab.kernel.accessAllowed ? 'block' : 'none';\n",
              "\n",
              "        async function convertToInteractive(key) {\n",
              "          const element = document.querySelector('#df-06a58c4e-231e-4177-a75c-60837402b037');\n",
              "          const dataTable =\n",
              "            await google.colab.kernel.invokeFunction('convertToInteractive',\n",
              "                                                     [key], {});\n",
              "          if (!dataTable) return;\n",
              "\n",
              "          const docLinkHtml = 'Like what you see? Visit the ' +\n",
              "            '<a target=\"_blank\" href=https://colab.research.google.com/notebooks/data_table.ipynb>data table notebook</a>'\n",
              "            + ' to learn more about interactive tables.';\n",
              "          element.innerHTML = '';\n",
              "          dataTable['output_type'] = 'display_data';\n",
              "          await google.colab.output.renderOutput(dataTable, element);\n",
              "          const docLink = document.createElement('div');\n",
              "          docLink.innerHTML = docLinkHtml;\n",
              "          element.appendChild(docLink);\n",
              "        }\n",
              "      </script>\n",
              "    </div>\n",
              "  </div>\n",
              "  "
            ]
          },
          "metadata": {},
          "execution_count": 32
        }
      ]
    },
    {
      "cell_type": "markdown",
      "metadata": {
        "id": "fabLTz9c_tJE"
      },
      "source": [
        "Vamos agora verificar se o dataset tem as classes balanceadas para que possamos tratar o desbalanceamento posteriormente, se necessário. Veremos que as classes 0 (não ocorrência de diabetes) e 1 (ocorrência de diabetes) estão desbalanceadas. Vamos guardar esta informação, pois possivelmente precisaremos realizar algum tipo de tratamento nas próximas etapas."
      ]
    },
    {
      "cell_type": "markdown",
      "metadata": {
        "id": "kObO1uuU_teC"
      },
      "source": [
        "O Gráfico de Densidade, ou Density Plot, é bem parecido com o histograma, mas com uma visualização um pouco diferente. Com ele, pode ser mais fácil identificar a distribuição do atributos do dataset. Assim como fizemos com o histograma, vamos criar um density plot para cada atributo do dataset.\n",
        "\n",
        "Veremos que muitos dos atributos têm uma distribuição distorcida. Uma transformação como a Box-Cox, que pode aproximar a distribuição de uma Normal, pode ser útil neste caso."
      ]
    },
    {
      "cell_type": "markdown",
      "metadata": {
        "id": "08IaXUcCxuj6"
      },
      "source": [
        "Vamos agora trabalhar com boxplots. No **boxblot**, a linha no centro (vermelha) representa o valor da mediana (segundo quartil ou p50). A linha abaixo é o 1o quartil (p25) e a linha acima o terceiro quartil (p75). O boxplot ajuda a ter uma ideia da dispersão dos dataset e os possíveis outliers.\n",
        "\n",
        "*OBS: Se um ponto do dataset é muito distante da média (acima de 3 desvios padrão da média), pode ser considerado outlier.*\n",
        "\n",
        "Nos gráficos bloxplot, veremos que a dispersão dos atributos do dataset é bem diferente."
      ]
    },
    {
      "cell_type": "markdown",
      "metadata": {
        "id": "oMMGbjYbAe-3"
      },
      "source": [
        "### 3.3. Visualizações Multimodais\n",
        "\n",
        "Ao visualizar as correlações entre os atributos através da matriz de correlação, perceberemos que parece haver alguma estrutura na ordem dos atributos. O azul ao redor da diagonal sugere que os atributos que estão próximos um do outro são geralmente mais correlacionados entre si. Os vermelhos também sugerem alguma correlação negativa moderada, a medida que os atributos\n",
        "\n",
        "Vamos agora verificar a covariância entre as variáveis numéricas do dataset. A **covariância** representa como duas variáveis numéricas estão relacionadas. Existem várias formas de calcular a correlação entre duas variáveis, como por exemplo, o coeficiente de correlação de Pearson, que pode ser:\n",
        "* Próximo de -1 : há uma correlação negativa entre as variáveis,\n",
        "* Próximo de +1: há uma correlação positiva entre as variáveis.\n",
        "* 0: não há correlação entre as variáveis.\n",
        "\n",
        "<i>OBS: Esta informação é relevante porque alguns algoritmos como regressão linear e regressão logística podem apresentar problemas de performance se houver atributos altamente correlacionados. Vale a pena consultar a documentação do algoritmo para verificar se algum tipo de tratamento de dataset é necessário.</i>\n",
        "\n",
        "Falamos anteriormente da importância da correlação entre os atributos, e agora iremos visualizar esta informação em formato gráfico. A **matriz de correlação** exibe graficamente a correlação entre os atributos numéricos do dataset.estão mais distantes um do outro na ordenação.\n",
        "\n",
        "O código a seguir exibe a matriz de correlação."
      ]
    },
    {
      "cell_type": "markdown",
      "metadata": {
        "id": "IXCUyGj3y-1F"
      },
      "source": [
        "Por sua vez, o gráfico de dispersão (**scatter plot**) mostra o relacionamento entre duas variáveis. Vamos exibir um para cada par de atributos dos dataset, usando o Seaborn."
      ]
    },
    {
      "cell_type": "code",
      "metadata": {
        "id": "JhHGrt91y-7T",
        "outputId": "44e90576-e4af-4390-cd2f-844bea92d1a2",
        "colab": {
          "base_uri": "https://localhost:8080/",
          "height": 285
        }
      },
      "source": [
        "# Scatter Plot com Seaborn - Variação 1\n",
        "\n",
        "sns.pairplot(dataset)"
      ],
      "execution_count": null,
      "outputs": [
        {
          "output_type": "execute_result",
          "data": {
            "text/plain": [
              "<seaborn.axisgrid.PairGrid at 0x7f6ec0e0e2c0>"
            ]
          },
          "metadata": {},
          "execution_count": 49
        },
        {
          "output_type": "display_data",
          "data": {
            "text/plain": [
              "<Figure size 250x250 with 2 Axes>"
            ],
            "image/png": "[encoded data removed]"
          },
          "metadata": {}
        }
      ]
    },
    {
      "cell_type": "markdown",
      "metadata": {
        "id": "mE4-PIaTAfKX"
      },
      "source": [
        "## 4. Pré-Processamento de dados\n",
        "\n",
        "Nesta etapa, poderíamos realizar diversas operações de preparação de dados, como por exemplo, tratamento de valores missings (faltantes), limpeza de dados, transformações como one-hot-encoding, seleção de características (feature selection), entre outras não mostradas neste notebook. Lembre-se de não criar uma versão padronizada/normalizada dos dados neste momento (apesar de serem operações de pré-processamento) para evitar o Data Leakage."
      ]
    },
    {
      "cell_type": "markdown",
      "metadata": {
        "id": "REo1UJQZLuFV"
      },
      "source": [
        "### 4.1. Tratamento de Missings e Limpeza"
      ]
    },
    {
      "cell_type": "markdown",
      "metadata": {
        "id": "KhAz17RD6YP4"
      },
      "source": [
        "Sabemos que o datset Diabetes não tem missings aparentes, mas valores \"0\" que parecem ser missings. Vamos então fazer este tratamento e criar uma nova visão do nosso dataset."
      ]
    },
    {
      "cell_type": "code",
      "metadata": {
        "id": "-Utzu_kmLwWi"
      },
      "source": [
        "# verificando nulls no dataset\n",
        "dataset.isnull().sum()"
      ],
      "execution_count": null,
      "outputs": []
    },
    {
      "cell_type": "code",
      "metadata": {
        "id": "iUJ5YgRWLzjf"
      },
      "source": [
        "# salvando um NOVO dataset para tratamento de missings (cuidado para não sobrescrever o dataset original!)\n",
        "\n",
        "# recuperando os nomes das colunas\n",
        "col = list(dataset.columns)\n",
        "\n",
        "# o novo dataset irá conter todas as colunas com exceção da última (classe)\n",
        "atributos = dataset[col[0:-1]]\n",
        "\n",
        "# substituindo os zeros por NaN\n",
        "atributos.replace(0, np.nan, inplace=True)\n",
        "\n",
        "# exibindo visualização matricial da nulidade do dataset\n",
        "ms.matrix(atributos)"
      ],
      "execution_count": null,
      "outputs": []
    },
    {
      "cell_type": "code",
      "metadata": {
        "id": "7JdS5PS3MFNo"
      },
      "source": [
        "# removendo as colunas 'skin' e 'test'\n",
        "atributos.drop(['skin', 'test'], axis=1, inplace= True)\n",
        "\n",
        "# exibindo visualização matricial da nulidade do dataset\n",
        "ms.matrix(atributos)"
      ],
      "execution_count": null,
      "outputs": []
    },
    {
      "cell_type": "code",
      "metadata": {
        "id": "HlPUeOrwMJs6"
      },
      "source": [
        "# substituindo os NaN de 'preg' por 0\n",
        "atributos['preg'].fillna(0, inplace=True)\n",
        "\n",
        "# substituindo os NaN de 'plas', 'pres'e 'mass' pela mediana da coluna\n",
        "atributos['plas'].fillna(atributos['plas'].median(), inplace=True)\n",
        "atributos['pres'].fillna(atributos['pres'].median(), inplace=True)\n",
        "atributos['mass'].fillna(atributos['mass'].median(), inplace=True)\n",
        "\n",
        "# exibindo visualização matricial da nulidade do dataset\n",
        "ms.matrix(atributos)"
      ],
      "execution_count": null,
      "outputs": []
    },
    {
      "cell_type": "code",
      "metadata": {
        "id": "rvWWeIrOMdkV"
      },
      "source": [
        "# Guardando o novo dataset para testes futuros\n",
        "datasetSemMissings = atributos\n",
        "\n",
        "# incluindo a coluna 'class' no novo dataset\n",
        "datasetSemMissings['class'] = dataset['class']\n",
        "\n",
        "# exibindo as primeiras linhas\n",
        "datasetSemMissings.head()"
      ],
      "execution_count": null,
      "outputs": []
    },
    {
      "cell_type": "markdown",
      "metadata": {
        "id": "LoLQBjKl9JVD"
      },
      "source": [
        "### 4.2. Separação em conjunto de treino e conjunto de teste\n",
        "\n",
        "É uma boa prática usar um conjunto de teste (na literatura também chamado de conjunto de validação), uma amostra dos dados que não será usada para a construção do modelo, mas somente no fim do projeto para confirmar a precisão do modelo final. É um teste que podemos usar para verificar o quão boa foi a construção do modelo, e para nos dar uma ideia de como o modelo irá performar nas estimativas em dados não vistos. Usaremos 80% do conjunto de dados para modelagem e guardaremos 20% para teste, usando a estratégia train-test-split, já explicada anteriormente. Primeiramente, iremos sinalizar quais são as colunas de atributos (X - 0 a 7) e qual é a coluna das classes (Y - 8). Em seguida, especificaremos o tamanho do conjunto de teste desejado e uma semente (para garantir a reprodutibilidade dos resultados). Finalmente, faremos a separação dos conjuntos de treino e teste através do comando train_test_split, que retornará 4 estruturas de dados: os atributos e classes para o conjunto de teste e os atributos e classes para o conjunto de treino.\n"
      ]
    },
    {
      "cell_type": "markdown",
      "source": [
        "# Nova seção"
      ],
      "metadata": {
        "id": "9EG3lCXFI_HB"
      }
    },
    {
      "cell_type": "code",
      "metadata": {
        "id": "fEiAm3LEAfPt"
      },
      "source": [
        "test_size = 0.20\n",
        "seed = 7\n",
        "\n",
        "# Separação em conjuntos de treino e teste (dataset original)\n",
        "array = dataset.values\n",
        "X = array[:,0:8]\n",
        "y = array[:,8]\n",
        "#X_train, X_test, y_train, y_test = train_test_split(X, y,\n",
        "#    test_size=test_size, shuffle=True, random_state=seed) # sem estratificação\n",
        "X_train, X_test, y_train, y_test = train_test_split(X, y,\n",
        "    test_size=test_size, shuffle=True, random_state=seed, stratify=y) # com estratificação"
      ],
      "execution_count": null,
      "outputs": []
    },
    {
      "cell_type": "code",
      "source": [
        "# Separação em conjuntos de treino e teste (dataset sem missings - 2 colunas a menos!)\n",
        "array = datasetSemMissings.values\n",
        "X_sm = array[:,0:6]\n",
        "y_sm = array[:,6]\n",
        "#X_train_sm, X_test_sm, y_train_sm, y_test_sm = train_test_split(X_sm, y_sm,\n",
        "#    test_size=test_size, shuffle=True, random_state=seed) # sem estratificação\n",
        "X_train_sm, X_test_sm, y_train_sm, y_test_sm = train_test_split(X_sm, y_sm,\n",
        "    test_size=test_size, shuffle=True, random_state=seed, stratify=y_sm) # com estratificação"
      ],
      "metadata": {
        "id": "rSw6CMTJDwld"
      },
      "execution_count": null,
      "outputs": []
    }
  ]
}