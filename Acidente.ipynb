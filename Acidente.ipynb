{
  "nbformat": 4,
  "nbformat_minor": 0,
  "metadata": {
    "colab": {
      "provenance": [],
      "collapsed_sections": [
        "mE4-PIaTAfKX"
      ],
      "toc_visible": true,
      "include_colab_link": true
    },
    "kernelspec": {
      "name": "python3",
      "display_name": "Python 3"
    }
  },
  "cells": [
    {
      "cell_type": "markdown",
      "metadata": {
        "id": "view-in-github",
        "colab_type": "text"
      },
      "source": [
        "<a href=\"https://colab.research.google.com/github/lucila-03/Acidente/blob/main/Acidente.ipynb\" target=\"_parent\"><img src=\"https://colab.research.google.com/assets/colab-badge.svg\" alt=\"Open In Colab\"/></a>"
      ]
    },
    {
      "cell_type": "markdown",
      "metadata": {
        "id": "otEdveLq8Hn0"
      },
      "source": [
        "# MVP para Análise de Informações do INSS\n",
        "## Lucila da Conceição Castello Branco\n"
      ]
    },
    {
      "cell_type": "markdown",
      "source": [
        "O que não está detalhado ou pode ser melhorado neste notebook para ficar como esperamos para o MVP:\n",
        "- Blocos de texto que expliquem textualmente cada etapa e cada decisão do seu código, contando uma história completa e compreensível, do início ao fim;\n",
        "- Boas práticas de codificação;\n",
        "- Após cada gráfico, escrever 1 parágrafo resumindo os principais achados, analisando os resultados e levantando eventuais pontos de atenção."
      ],
      "metadata": {
        "id": "H4gt9EHwtMri"
      }
    },
    {
      "cell_type": "markdown",
      "metadata": {
        "id": "z1PEQEdZ9zm4"
      },
      "source": [
        "## 1. Definição do Problema *"
      ]
    },
    {
      "cell_type": "markdown",
      "metadata": {
        "id": "HDcdO4yx9db6"
      },
      "source": [
        "O dataset usado neste projeto será um arquivo do governo com informações da Comunicação de Acidentes de Trabalho (CAT), são somente as informações que governo disponibiliza, o arquivo tem somente informações relativas aos de Janeiro e Fevereiro de 2022. O objetivo deste projeto é conhecer os tipos de acidentados em janeiro e fevereiro de 2022 que estão no INSS e conhecer os acidentes mais recorrentes. Este dataset é um subconjunto do dataset original, o original contem dados trimestrais.\n",
        "    O dataset apresenta em diversos atributos relacionados a dados médicos e uma variável de classe binária (0 ou 1). As variáveis ​​preditoras incluem o número de gestações que a paciente teve, seu IMC, nível de insulina, idade e assim por diante.\n",
        "    Para mais detalhes sobre este dataset, consulte: https://www.kaggle.com/uciml/pima-indians-diabetes-database\n",
        "\n",
        "\n",
        "**Informações sobre os atributos:**\n",
        "1. **preg** - Número de vezes grávida \n",
        "2. **plas** - Concentração de glicose no plasma\n",
        "3. **pres** - Pressão sanguínea diastólica (mm Hg) \n",
        "4. **skin** - Espessura da dobra da pele do tríceps (mm) \n",
        "5. **test** - Insulina sérica de 2 horas (mu U/ml) \n",
        "6. **mass** - Índice de massa corporal (peso em kg/(altura em m)^2) \n",
        "7. **pedi** - Função de linhagem de diabetes (uma função que pontua a probabilidade de diabetes com base no histórico familiar) \n",
        "8. **age** - Idade (anos) \n",
        "9. **class** - Variável de classe (0 ou 1) "
      ]
    },
    {
      "cell_type": "code",
      "metadata": {
        "id": "RCn8CH4M7wF-"
      },
      "source": [
        "# Importação dos pacotes\n",
        "import pandas as pd\n",
        "import numpy as np\n",
        "import matplotlib\n",
        "import matplotlib.pyplot as plt\n",
        "import seaborn as sns\n",
        "from datetime import datetime\n",
        "# import missingno as ms # para tratamento de missings\n",
        "# from matplotlib import cm\n",
        "# from pandas import set_option\n",
        "# from pandas.plotting import scatter_matrix\n",
        "# from sklearn.preprocessing import StandardScaler\n",
        "# from sklearn.preprocessing import MinMaxScaler\n",
        "# from sklearn.model_selection import train_test_split\n",
        "# from sklearn.model_selection import KFold\n",
        "# from sklearn.model_selection import StratifiedKFold\n",
        "# from sklearn.model_selection import cross_val_score\n",
        "# from sklearn.model_selection import GridSearchCV\n",
        "# from sklearn.metrics import classification_report\n",
        "# from sklearn.metrics import confusion_matrix\n",
        "# from sklearn.metrics import accuracy_score\n",
        "# from sklearn.pipeline import Pipeline\n",
        "# from sklearn.linear_model import LogisticRegression\n",
        "# from sklearn.tree import DecisionTreeClassifier\n",
        "# from sklearn.neighbors import KNeighborsClassifier\n",
        "# from sklearn.naive_bayes import GaussianNB\n",
        "# from sklearn.svm import SVC\n",
        "# from sklearn.ensemble import BaggingClassifier\n",
        "# from sklearn.ensemble import RandomForestClassifier\n",
        "# from sklearn.ensemble import ExtraTreesClassifier\n",
        "# from sklearn.ensemble import VotingClassifier\n",
        "# from sklearn.ensemble import AdaBoostClassifier\n",
        "# from sklearn.ensemble import GradientBoostingClassifier"
      ],
      "execution_count": null,
      "outputs": []
    },
    {
      "cell_type": "code",
      "metadata": {
        "id": "dJpWLh52-aPE"
      },
      "source": [
        "# configuração para não exibir os warnings\n",
        "# import warnings\n",
        "# warnings.filterwarnings(\"ignore\")"
      ],
      "execution_count": null,
      "outputs": []
    },
    {
      "cell_type": "markdown",
      "metadata": {
        "id": "2PcB0Efd-MS4"
      },
      "source": [
        "## 2. Carga de Dados"
      ]
    },
    {
      "cell_type": "code",
      "metadata": {
        "id": "29AFuCPtvG_i"
      },
      "source": [
        "# Carrega arquivo csv usando Pandas usando uma URL\n",
        "\n",
        "# Importação do dataset\n",
        "\n",
        "url = \"https://raw.githubusercontent.com/lucila-03/mvp/main/D.SDA.PDA.005.CAT.20220102.csv\"\n",
        "dataset = pd.read_csv(url, delimiter = \";\", encoding='ISO-8859-1' )\n"
      ],
      "execution_count": null,
      "outputs": []
    },
    {
      "cell_type": "markdown",
      "metadata": {
        "id": "KBSgQt_z_TnV"
      },
      "source": [
        "## 3. Análise de Dados"
      ]
    },
    {
      "cell_type": "markdown",
      "metadata": {
        "id": "bqINv-wo_Xfe"
      },
      "source": [
        "### 3.1. Estatísticas Descritivas\n",
        "\n",
        "Vamos iniciar examinando as dimensões do dataset, suas informações e alguns exemplos de linhas."
      ]
    },
    {
      "cell_type": "code",
      "metadata": {
        "id": "zF3f00Zl_g7j",
        "colab": {
          "base_uri": "https://localhost:8080/"
        },
        "outputId": "fe3c3d79-c116-45b7-c831-9e1f5b2ad112"
      },
      "source": [
        "# Mostra as dimensões do dataset\n",
        "dataset.shape"
      ],
      "execution_count": null,
      "outputs": [
        {
          "output_type": "execute_result",
          "data": {
            "text/plain": [
              "(40852, 20)"
            ]
          },
          "metadata": {},
          "execution_count": 52
        }
      ]
    },
    {
      "cell_type": "code",
      "metadata": {
        "id": "UUjmUTEOwQZt",
        "colab": {
          "base_uri": "https://localhost:8080/"
        },
        "outputId": "59786c94-48fa-4e0f-ef3e-6e3423a1424d"
      },
      "source": [
        "# Mostra as informações do dataset\n",
        "dataset.info()"
      ],
      "execution_count": null,
      "outputs": [
        {
          "output_type": "stream",
          "name": "stdout",
          "text": [
            "<class 'pandas.core.frame.DataFrame'>\n",
            "RangeIndex: 40852 entries, 0 to 40851\n",
            "Data columns (total 20 columns):\n",
            " #   Column                      Non-Null Count  Dtype \n",
            "---  ------                      --------------  ----- \n",
            " 0   Agente  Causador  Acidente  40852 non-null  object\n",
            " 1   CBO                         40852 non-null  object\n",
            " 2   CID-10                      40852 non-null  object\n",
            " 3   CNAE2.0 Empregador          40852 non-null  object\n",
            " 4   Emitente CAT                40852 non-null  object\n",
            " 5   Espécie do benefício        40852 non-null  object\n",
            " 6   Filiação Segurado           40852 non-null  object\n",
            " 7   Indica Óbito Acidente       40852 non-null  object\n",
            " 8   Munic Empr                  40852 non-null  object\n",
            " 9   Natureza da Lesão           40852 non-null  object\n",
            " 10  Parte Corpo Atingida        40852 non-null  object\n",
            " 11  Sexo                        40852 non-null  object\n",
            " 12  Tipo do Acidente            40852 non-null  object\n",
            " 13  UF  Munic.  Acidente        40852 non-null  object\n",
            " 14  UF Munic. Empregador        40852 non-null  object\n",
            " 15  Mês Acidente                40852 non-null  object\n",
            " 16  Data Despacho Benefício     40852 non-null  object\n",
            " 17  Data Acidente               40852 non-null  object\n",
            " 18  Data Nascimento             40852 non-null  object\n",
            " 19  Data Emissão CAT            40852 non-null  object\n",
            "dtypes: object(20)\n",
            "memory usage: 6.2+ MB\n"
          ]
        }
      ]
    },
    {
      "cell_type": "markdown",
      "source": [
        "É sempre importante verificar o tipo do atributos do dataset, pois pode ser necessário realizar conversões, com base nas informações do dataset, foi identificado que algumas colunas precisam mudar de atributo."
      ],
      "metadata": {
        "id": "T_ZvL5qa3ZFj"
      }
    },
    {
      "cell_type": "code",
      "source": [
        "from pandas.core.dtypes.common import is_int64_dtype\n",
        "# Alterar atributo para data\n",
        "#data = datetime.strptime('Sep 22 2021', '%b %d %Y')\n",
        "#dataset['Data Acidente'] = datetime.strptime(dataset['Data Acidente'], '%b %d %Y' )\n"
      ],
      "metadata": {
        "id": "espbhQpx4DaB"
      },
      "execution_count": null,
      "outputs": []
    },
    {
      "cell_type": "markdown",
      "source": [
        "Após a solicitação de mudança precisamos verificar se ficou certo."
      ],
      "metadata": {
        "id": "ZpZuNNeaUcZ_"
      }
    },
    {
      "cell_type": "code",
      "source": [
        " # Verifica o tipo de dataset de cada atributo\n",
        "dataset.dtypes"
      ],
      "metadata": {
        "id": "HR1nqLz638ZC",
        "colab": {
          "base_uri": "https://localhost:8080/"
        },
        "outputId": "2d12099b-df60-47e4-8828-d0e17e429417"
      },
      "execution_count": null,
      "outputs": [
        {
          "output_type": "execute_result",
          "data": {
            "text/plain": [
              "Agente  Causador  Acidente    object\n",
              "CBO                           object\n",
              "CID-10                        object\n",
              "CNAE2.0 Empregador            object\n",
              "Emitente CAT                  object\n",
              "Espécie do benefício          object\n",
              "Filiação Segurado             object\n",
              "Indica Óbito Acidente         object\n",
              "Munic Empr                    object\n",
              "Natureza da Lesão             object\n",
              "Parte Corpo Atingida          object\n",
              "Sexo                          object\n",
              "Tipo do Acidente              object\n",
              "UF  Munic.  Acidente          object\n",
              "UF Munic. Empregador          object\n",
              "Mês Acidente                  object\n",
              "Data Despacho Benefício       object\n",
              "Data Acidente                 object\n",
              "Data Nascimento               object\n",
              "Data Emissão CAT              object\n",
              "dtype: object"
            ]
          },
          "metadata": {},
          "execution_count": 55
        }
      ]
    },
    {
      "cell_type": "code",
      "metadata": {
        "id": "yPy9N4FuwX6H",
        "colab": {
          "base_uri": "https://localhost:8080/",
          "height": 635
        },
        "outputId": "a013c5c3-0cc6-44b1-d619-7b0e807b217d"
      },
      "source": [
        "# Mostra as 5 primeiras linhas do dataset\n",
        "dataset.head(5)"
      ],
      "execution_count": null,
      "outputs": [
        {
          "output_type": "execute_result",
          "data": {
            "text/plain": [
              "                      Agente  Causador  Acidente  \\\n",
              "0  {ñ class}                                       \n",
              "1  Impacto de Pes. Contra Objeto em Movimento      \n",
              "2  {ñ class}                                       \n",
              "3  Passarela ou Plataforma Permanentes - Superfi   \n",
              "4  {ñ class}                                       \n",
              "\n",
              "                                             CBO  \\\n",
              "0  515105-Agente Comunitário de Saúde              \n",
              "1  {ñ class}                                       \n",
              "2  223505-Enfermeiro                               \n",
              "3  951105-Eletricista de Manut. Eletroeletrônica   \n",
              "4  {ñ class}                                       \n",
              "\n",
              "                                          CID-10  \\\n",
              "0  B34.2 Infecc p/Coronavirus Ne                   \n",
              "1  S90.0 Contusao do Tornozelo                     \n",
              "2  B34.2 Infecc p/Coronavirus Ne                   \n",
              "3  S12.2 Frat de Outr Vertebras Cervicais Espec    \n",
              "4  B34.2 Infecc p/Coronavirus Ne                   \n",
              "\n",
              "                              CNAE2.0 Empregador         Emitente CAT  \\\n",
              "0  Atividades de Atencao Ambulatorial Executadas  Empregador            \n",
              "1  Comercio Atacadista de Produtos Alimenticios   Empregador            \n",
              "2  Atividades de Atencao Ambulatorial Executadas  Empregador            \n",
              "3  Desdobramento de Madeira                       Empregador            \n",
              "4  Atividades de Atencao Ambulatorial Executadas  Empregador            \n",
              "\n",
              "                            Espécie do benefício  \\\n",
              "0  Pa                                              \n",
              "1  Pa                                              \n",
              "2  Pa                                              \n",
              "3  Pa                                              \n",
              "4  Pa                                              \n",
              "\n",
              "                               Filiação Segurado Indica Óbito Acidente  \\\n",
              "0  Empregado                                                       Não   \n",
              "1  Empregado                                                       Não   \n",
              "2  Empregado                                                       Não   \n",
              "3  Empregado                                                       Não   \n",
              "4  Empregado                                                       Não   \n",
              "\n",
              "                                  Munic Empr  \\\n",
              "0  354780-Santo André-Sp                       \n",
              "1  330100-Campos dos Goytacazes                \n",
              "2  354780-Santo André-Sp                       \n",
              "3  421500-Rio Negrinho                         \n",
              "4  354780-Santo André-Sp                       \n",
              "\n",
              "                               Natureza da Lesão  \\\n",
              "0  Doenca Contagiosa ou Infecciosa (Tuberculos     \n",
              "1  Luxacao                                         \n",
              "2  Doenca Contagiosa ou Infecciosa (Tuberculos     \n",
              "3  Fratura                                         \n",
              "4  Doenca Contagiosa ou Infecciosa (Tuberculos     \n",
              "\n",
              "                            Parte Corpo Atingida           Sexo  \\\n",
              "0  Aparelho Respiratorio                          Feminino        \n",
              "1  Perna (Entre O Tornozelo e a Pelvis)           Masculino       \n",
              "2  Aparelho Respiratorio                          Feminino        \n",
              "3  Dorso (Inclusive Musculos Dorsais, Coluna e M  Masculino       \n",
              "4  Aparelho Respiratorio                          Feminino        \n",
              "\n",
              "  Tipo do Acidente UF  Munic.  Acidente UF Munic. Empregador Mês Acidente  \\\n",
              "0         Doença       Maranhão          São Paulo                2022/01   \n",
              "1         Típico       Maranhão          São Paulo                2022/01   \n",
              "2         Doença       Maranhão          São Paulo                2022/01   \n",
              "3         Típico       {ñ class}         Santa Catarina           2022/01   \n",
              "4         Doença       Maranhão          São Paulo                2022/01   \n",
              "\n",
              "  Data Despacho Benefício Data Acidente Data Nascimento Data Emissão CAT  \n",
              "0                 0000/00    20/01/2022      02/08/1970       01/03/2022  \n",
              "1                 0000/00    28/01/2022      25/07/1995       01/03/2022  \n",
              "2                 0000/00    18/01/2022      13/05/1982       01/03/2022  \n",
              "3                 0000/00    28/01/2022      21/03/1990       01/03/2022  \n",
              "4                 0000/00    20/01/2022      16/02/1965       01/03/2022  "
            ],
            "text/html": [
              "\n",
              "  <div id=\"df-c8c46aa1-affe-476c-b487-47bd0ac9dae9\">\n",
              "    <div class=\"colab-df-container\">\n",
              "      <div>\n",
              "<style scoped>\n",
              "    .dataframe tbody tr th:only-of-type {\n",
              "        vertical-align: middle;\n",
              "    }\n",
              "\n",
              "    .dataframe tbody tr th {\n",
              "        vertical-align: top;\n",
              "    }\n",
              "\n",
              "    .dataframe thead th {\n",
              "        text-align: right;\n",
              "    }\n",
              "</style>\n",
              "<table border=\"1\" class=\"dataframe\">\n",
              "  <thead>\n",
              "    <tr style=\"text-align: right;\">\n",
              "      <th></th>\n",
              "      <th>Agente  Causador  Acidente</th>\n",
              "      <th>CBO</th>\n",
              "      <th>CID-10</th>\n",
              "      <th>CNAE2.0 Empregador</th>\n",
              "      <th>Emitente CAT</th>\n",
              "      <th>Espécie do benefício</th>\n",
              "      <th>Filiação Segurado</th>\n",
              "      <th>Indica Óbito Acidente</th>\n",
              "      <th>Munic Empr</th>\n",
              "      <th>Natureza da Lesão</th>\n",
              "      <th>Parte Corpo Atingida</th>\n",
              "      <th>Sexo</th>\n",
              "      <th>Tipo do Acidente</th>\n",
              "      <th>UF  Munic.  Acidente</th>\n",
              "      <th>UF Munic. Empregador</th>\n",
              "      <th>Mês Acidente</th>\n",
              "      <th>Data Despacho Benefício</th>\n",
              "      <th>Data Acidente</th>\n",
              "      <th>Data Nascimento</th>\n",
              "      <th>Data Emissão CAT</th>\n",
              "    </tr>\n",
              "  </thead>\n",
              "  <tbody>\n",
              "    <tr>\n",
              "      <th>0</th>\n",
              "      <td>{ñ class}</td>\n",
              "      <td>515105-Agente Comunitário de Saúde</td>\n",
              "      <td>B34.2 Infecc p/Coronavirus Ne</td>\n",
              "      <td>Atividades de Atencao Ambulatorial Executadas</td>\n",
              "      <td>Empregador</td>\n",
              "      <td>Pa</td>\n",
              "      <td>Empregado</td>\n",
              "      <td>Não</td>\n",
              "      <td>354780-Santo André-Sp</td>\n",
              "      <td>Doenca Contagiosa ou Infecciosa (Tuberculos</td>\n",
              "      <td>Aparelho Respiratorio</td>\n",
              "      <td>Feminino</td>\n",
              "      <td>Doença</td>\n",
              "      <td>Maranhão</td>\n",
              "      <td>São Paulo</td>\n",
              "      <td>2022/01</td>\n",
              "      <td>0000/00</td>\n",
              "      <td>20/01/2022</td>\n",
              "      <td>02/08/1970</td>\n",
              "      <td>01/03/2022</td>\n",
              "    </tr>\n",
              "    <tr>\n",
              "      <th>1</th>\n",
              "      <td>Impacto de Pes. Contra Objeto em Movimento</td>\n",
              "      <td>{ñ class}</td>\n",
              "      <td>S90.0 Contusao do Tornozelo</td>\n",
              "      <td>Comercio Atacadista de Produtos Alimenticios</td>\n",
              "      <td>Empregador</td>\n",
              "      <td>Pa</td>\n",
              "      <td>Empregado</td>\n",
              "      <td>Não</td>\n",
              "      <td>330100-Campos dos Goytacazes</td>\n",
              "      <td>Luxacao</td>\n",
              "      <td>Perna (Entre O Tornozelo e a Pelvis)</td>\n",
              "      <td>Masculino</td>\n",
              "      <td>Típico</td>\n",
              "      <td>Maranhão</td>\n",
              "      <td>São Paulo</td>\n",
              "      <td>2022/01</td>\n",
              "      <td>0000/00</td>\n",
              "      <td>28/01/2022</td>\n",
              "      <td>25/07/1995</td>\n",
              "      <td>01/03/2022</td>\n",
              "    </tr>\n",
              "    <tr>\n",
              "      <th>2</th>\n",
              "      <td>{ñ class}</td>\n",
              "      <td>223505-Enfermeiro</td>\n",
              "      <td>B34.2 Infecc p/Coronavirus Ne</td>\n",
              "      <td>Atividades de Atencao Ambulatorial Executadas</td>\n",
              "      <td>Empregador</td>\n",
              "      <td>Pa</td>\n",
              "      <td>Empregado</td>\n",
              "      <td>Não</td>\n",
              "      <td>354780-Santo André-Sp</td>\n",
              "      <td>Doenca Contagiosa ou Infecciosa (Tuberculos</td>\n",
              "      <td>Aparelho Respiratorio</td>\n",
              "      <td>Feminino</td>\n",
              "      <td>Doença</td>\n",
              "      <td>Maranhão</td>\n",
              "      <td>São Paulo</td>\n",
              "      <td>2022/01</td>\n",
              "      <td>0000/00</td>\n",
              "      <td>18/01/2022</td>\n",
              "      <td>13/05/1982</td>\n",
              "      <td>01/03/2022</td>\n",
              "    </tr>\n",
              "    <tr>\n",
              "      <th>3</th>\n",
              "      <td>Passarela ou Plataforma Permanentes - Superfi</td>\n",
              "      <td>951105-Eletricista de Manut. Eletroeletrônica</td>\n",
              "      <td>S12.2 Frat de Outr Vertebras Cervicais Espec</td>\n",
              "      <td>Desdobramento de Madeira</td>\n",
              "      <td>Empregador</td>\n",
              "      <td>Pa</td>\n",
              "      <td>Empregado</td>\n",
              "      <td>Não</td>\n",
              "      <td>421500-Rio Negrinho</td>\n",
              "      <td>Fratura</td>\n",
              "      <td>Dorso (Inclusive Musculos Dorsais, Coluna e M</td>\n",
              "      <td>Masculino</td>\n",
              "      <td>Típico</td>\n",
              "      <td>{ñ class}</td>\n",
              "      <td>Santa Catarina</td>\n",
              "      <td>2022/01</td>\n",
              "      <td>0000/00</td>\n",
              "      <td>28/01/2022</td>\n",
              "      <td>21/03/1990</td>\n",
              "      <td>01/03/2022</td>\n",
              "    </tr>\n",
              "    <tr>\n",
              "      <th>4</th>\n",
              "      <td>{ñ class}</td>\n",
              "      <td>{ñ class}</td>\n",
              "      <td>B34.2 Infecc p/Coronavirus Ne</td>\n",
              "      <td>Atividades de Atencao Ambulatorial Executadas</td>\n",
              "      <td>Empregador</td>\n",
              "      <td>Pa</td>\n",
              "      <td>Empregado</td>\n",
              "      <td>Não</td>\n",
              "      <td>354780-Santo André-Sp</td>\n",
              "      <td>Doenca Contagiosa ou Infecciosa (Tuberculos</td>\n",
              "      <td>Aparelho Respiratorio</td>\n",
              "      <td>Feminino</td>\n",
              "      <td>Doença</td>\n",
              "      <td>Maranhão</td>\n",
              "      <td>São Paulo</td>\n",
              "      <td>2022/01</td>\n",
              "      <td>0000/00</td>\n",
              "      <td>20/01/2022</td>\n",
              "      <td>16/02/1965</td>\n",
              "      <td>01/03/2022</td>\n",
              "    </tr>\n",
              "  </tbody>\n",
              "</table>\n",
              "</div>\n",
              "      <button class=\"colab-df-convert\" onclick=\"convertToInteractive('df-c8c46aa1-affe-476c-b487-47bd0ac9dae9')\"\n",
              "              title=\"Convert this dataframe to an interactive table.\"\n",
              "              style=\"display:none;\">\n",
              "        \n",
              "  <svg xmlns=\"http://www.w3.org/2000/svg\" height=\"24px\"viewBox=\"0 0 24 24\"\n",
              "       width=\"24px\">\n",
              "    <path d=\"M0 0h24v24H0V0z\" fill=\"none\"/>\n",
              "    <path d=\"M18.56 5.44l.94 2.06.94-2.06 2.06-.94-2.06-.94-.94-2.06-.94 2.06-2.06.94zm-11 1L8.5 8.5l.94-2.06 2.06-.94-2.06-.94L8.5 2.5l-.94 2.06-2.06.94zm10 10l.94 2.06.94-2.06 2.06-.94-2.06-.94-.94-2.06-.94 2.06-2.06.94z\"/><path d=\"M17.41 7.96l-1.37-1.37c-.4-.4-.92-.59-1.43-.59-.52 0-1.04.2-1.43.59L10.3 9.45l-7.72 7.72c-.78.78-.78 2.05 0 2.83L4 21.41c.39.39.9.59 1.41.59.51 0 1.02-.2 1.41-.59l7.78-7.78 2.81-2.81c.8-.78.8-2.07 0-2.86zM5.41 20L4 18.59l7.72-7.72 1.47 1.35L5.41 20z\"/>\n",
              "  </svg>\n",
              "      </button>\n",
              "      \n",
              "  <style>\n",
              "    .colab-df-container {\n",
              "      display:flex;\n",
              "      flex-wrap:wrap;\n",
              "      gap: 12px;\n",
              "    }\n",
              "\n",
              "    .colab-df-convert {\n",
              "      background-color: #E8F0FE;\n",
              "      border: none;\n",
              "      border-radius: 50%;\n",
              "      cursor: pointer;\n",
              "      display: none;\n",
              "      fill: #1967D2;\n",
              "      height: 32px;\n",
              "      padding: 0 0 0 0;\n",
              "      width: 32px;\n",
              "    }\n",
              "\n",
              "    .colab-df-convert:hover {\n",
              "      background-color: #E2EBFA;\n",
              "      box-shadow: 0px 1px 2px rgba(60, 64, 67, 0.3), 0px 1px 3px 1px rgba(60, 64, 67, 0.15);\n",
              "      fill: #174EA6;\n",
              "    }\n",
              "\n",
              "    [theme=dark] .colab-df-convert {\n",
              "      background-color: #3B4455;\n",
              "      fill: #D2E3FC;\n",
              "    }\n",
              "\n",
              "    [theme=dark] .colab-df-convert:hover {\n",
              "      background-color: #434B5C;\n",
              "      box-shadow: 0px 1px 3px 1px rgba(0, 0, 0, 0.15);\n",
              "      filter: drop-shadow(0px 1px 2px rgba(0, 0, 0, 0.3));\n",
              "      fill: #FFFFFF;\n",
              "    }\n",
              "  </style>\n",
              "\n",
              "      <script>\n",
              "        const buttonEl =\n",
              "          document.querySelector('#df-c8c46aa1-affe-476c-b487-47bd0ac9dae9 button.colab-df-convert');\n",
              "        buttonEl.style.display =\n",
              "          google.colab.kernel.accessAllowed ? 'block' : 'none';\n",
              "\n",
              "        async function convertToInteractive(key) {\n",
              "          const element = document.querySelector('#df-c8c46aa1-affe-476c-b487-47bd0ac9dae9');\n",
              "          const dataTable =\n",
              "            await google.colab.kernel.invokeFunction('convertToInteractive',\n",
              "                                                     [key], {});\n",
              "          if (!dataTable) return;\n",
              "\n",
              "          const docLinkHtml = 'Like what you see? Visit the ' +\n",
              "            '<a target=\"_blank\" href=https://colab.research.google.com/notebooks/data_table.ipynb>data table notebook</a>'\n",
              "            + ' to learn more about interactive tables.';\n",
              "          element.innerHTML = '';\n",
              "          dataTable['output_type'] = 'display_data';\n",
              "          await google.colab.output.renderOutput(dataTable, element);\n",
              "          const docLink = document.createElement('div');\n",
              "          docLink.innerHTML = docLinkHtml;\n",
              "          element.appendChild(docLink);\n",
              "        }\n",
              "      </script>\n",
              "    </div>\n",
              "  </div>\n",
              "  "
            ]
          },
          "metadata": {},
          "execution_count": 56
        }
      ]
    },
    {
      "cell_type": "code",
      "metadata": {
        "id": "KMyYMlMVwYCS",
        "colab": {
          "base_uri": "https://localhost:8080/",
          "height": 739
        },
        "outputId": "dfe7a965-3d6e-48ab-f80f-18f6449aa16e"
      },
      "source": [
        "# Mostra as 5 últimas linhas do dataset\n",
        "dataset.tail(5)"
      ],
      "execution_count": null,
      "outputs": [
        {
          "output_type": "execute_result",
          "data": {
            "text/plain": [
              "                          Agente  Causador  Acidente  \\\n",
              "40847  {ñ class}                                       \n",
              "40848  {ñ class}                                       \n",
              "40849  {ñ class}                                       \n",
              "40850  {ñ class}                                       \n",
              "40851  {ñ class}                                       \n",
              "\n",
              "                                                 CBO  \\\n",
              "40847  000000-Não Informado                            \n",
              "40848  000000-Não Informado                            \n",
              "40849  000000-Não Informado                            \n",
              "40850  000000-Não Informado                            \n",
              "40851  000000-Não Informado                            \n",
              "\n",
              "                                              CID-10  \\\n",
              "40847  S92.5 Frat de Outr Artelho                      \n",
              "40848  S36   Traum de Orgaos Intra-Abdominais          \n",
              "40849  S52.5 Frat da Extremidade Distal do Radio       \n",
              "40850  S62.6 Frat de Outr Dedos                        \n",
              "40851  G56.0 Sindr do Tunel do Carpo                   \n",
              "\n",
              "                                  CNAE2.0 Empregador         Emitente CAT  \\\n",
              "40847  {ñ class}                                      {ñ class}             \n",
              "40848  {ñ class}                                      {ñ class}             \n",
              "40849  {ñ class}                                      {ñ class}             \n",
              "40850  {ñ class}                                      {ñ class}             \n",
              "40851  {ñ class}                                      {ñ class}             \n",
              "\n",
              "                                Espécie do benefício  \\\n",
              "40847  Auxílio Doenca por Acidente do Trabalho         \n",
              "40848  Auxílio Doenca por Acidente do Trabalho         \n",
              "40849  Auxílio Doenca por Acidente do Trabalho         \n",
              "40850  Auxílio Doenca por Acidente do Trabalho         \n",
              "40851  Auxílio Doenca por Acidente do Trabalho         \n",
              "\n",
              "                                   Filiação Segurado Indica Óbito Acidente  \\\n",
              "40847  {ñ class}                                                       {ñ    \n",
              "40848  {ñ class}                                                       {ñ    \n",
              "40849  {ñ class}                                                       {ñ    \n",
              "40850  {ñ class}                                                       {ñ    \n",
              "40851  {ñ class}                                                       {ñ    \n",
              "\n",
              "                                      Munic Empr  \\\n",
              "40847  000000-Ignorado                             \n",
              "40848  000000-Ignorado                             \n",
              "40849  000000-Ignorado                             \n",
              "40850  000000-Ignorado                             \n",
              "40851  000000-Ignorado                             \n",
              "\n",
              "                                   Natureza da Lesão  \\\n",
              "40847  {ñ class}                                       \n",
              "40848  {ñ class}                                       \n",
              "40849  {ñ class}                                       \n",
              "40850  {ñ class}                                       \n",
              "40851  {ñ class}                                       \n",
              "\n",
              "                                Parte Corpo Atingida           Sexo  \\\n",
              "40847  {ñ class}                                      Feminino        \n",
              "40848  {ñ class}                                      Masculino       \n",
              "40849  {ñ class}                                      Masculino       \n",
              "40850  {ñ class}                                      Masculino       \n",
              "40851  {ñ class}                                      Feminino        \n",
              "\n",
              "      Tipo do Acidente UF  Munic.  Acidente UF Munic. Empregador Mês Acidente  \\\n",
              "40847         Ignorado     Alagoas           Zerado                   2022/02   \n",
              "40848         Ignorado     Alagoas           Zerado                   2022/02   \n",
              "40849         Ignorado     Alagoas           Zerado                   2022/02   \n",
              "40850         Ignorado     Alagoas           Zerado                   2022/02   \n",
              "40851         Ignorado     Sergipe           Zerado                   2022/02   \n",
              "\n",
              "      Data Despacho Benefício Data Acidente Data Nascimento Data Emissão CAT  \n",
              "40847                 2022/04    10/02/2022      05/06/1979       00/00/0000  \n",
              "40848                 2022/03    23/02/2022      10/11/1979       00/00/0000  \n",
              "40849                 2022/05    11/02/2022      09/01/1972       00/00/0000  \n",
              "40850                 2022/07    06/02/2022      08/09/1981       00/00/0000  \n",
              "40851                 2022/05    10/02/2022      29/04/1972       00/00/0000  "
            ],
            "text/html": [
              "\n",
              "  <div id=\"df-fc754bc4-2d4c-413a-94f0-a8bea315c5af\">\n",
              "    <div class=\"colab-df-container\">\n",
              "      <div>\n",
              "<style scoped>\n",
              "    .dataframe tbody tr th:only-of-type {\n",
              "        vertical-align: middle;\n",
              "    }\n",
              "\n",
              "    .dataframe tbody tr th {\n",
              "        vertical-align: top;\n",
              "    }\n",
              "\n",
              "    .dataframe thead th {\n",
              "        text-align: right;\n",
              "    }\n",
              "</style>\n",
              "<table border=\"1\" class=\"dataframe\">\n",
              "  <thead>\n",
              "    <tr style=\"text-align: right;\">\n",
              "      <th></th>\n",
              "      <th>Agente  Causador  Acidente</th>\n",
              "      <th>CBO</th>\n",
              "      <th>CID-10</th>\n",
              "      <th>CNAE2.0 Empregador</th>\n",
              "      <th>Emitente CAT</th>\n",
              "      <th>Espécie do benefício</th>\n",
              "      <th>Filiação Segurado</th>\n",
              "      <th>Indica Óbito Acidente</th>\n",
              "      <th>Munic Empr</th>\n",
              "      <th>Natureza da Lesão</th>\n",
              "      <th>Parte Corpo Atingida</th>\n",
              "      <th>Sexo</th>\n",
              "      <th>Tipo do Acidente</th>\n",
              "      <th>UF  Munic.  Acidente</th>\n",
              "      <th>UF Munic. Empregador</th>\n",
              "      <th>Mês Acidente</th>\n",
              "      <th>Data Despacho Benefício</th>\n",
              "      <th>Data Acidente</th>\n",
              "      <th>Data Nascimento</th>\n",
              "      <th>Data Emissão CAT</th>\n",
              "    </tr>\n",
              "  </thead>\n",
              "  <tbody>\n",
              "    <tr>\n",
              "      <th>40847</th>\n",
              "      <td>{ñ class}</td>\n",
              "      <td>000000-Não Informado</td>\n",
              "      <td>S92.5 Frat de Outr Artelho</td>\n",
              "      <td>{ñ class}</td>\n",
              "      <td>{ñ class}</td>\n",
              "      <td>Auxílio Doenca por Acidente do Trabalho</td>\n",
              "      <td>{ñ class}</td>\n",
              "      <td>{ñ</td>\n",
              "      <td>000000-Ignorado</td>\n",
              "      <td>{ñ class}</td>\n",
              "      <td>{ñ class}</td>\n",
              "      <td>Feminino</td>\n",
              "      <td>Ignorado</td>\n",
              "      <td>Alagoas</td>\n",
              "      <td>Zerado</td>\n",
              "      <td>2022/02</td>\n",
              "      <td>2022/04</td>\n",
              "      <td>10/02/2022</td>\n",
              "      <td>05/06/1979</td>\n",
              "      <td>00/00/0000</td>\n",
              "    </tr>\n",
              "    <tr>\n",
              "      <th>40848</th>\n",
              "      <td>{ñ class}</td>\n",
              "      <td>000000-Não Informado</td>\n",
              "      <td>S36   Traum de Orgaos Intra-Abdominais</td>\n",
              "      <td>{ñ class}</td>\n",
              "      <td>{ñ class}</td>\n",
              "      <td>Auxílio Doenca por Acidente do Trabalho</td>\n",
              "      <td>{ñ class}</td>\n",
              "      <td>{ñ</td>\n",
              "      <td>000000-Ignorado</td>\n",
              "      <td>{ñ class}</td>\n",
              "      <td>{ñ class}</td>\n",
              "      <td>Masculino</td>\n",
              "      <td>Ignorado</td>\n",
              "      <td>Alagoas</td>\n",
              "      <td>Zerado</td>\n",
              "      <td>2022/02</td>\n",
              "      <td>2022/03</td>\n",
              "      <td>23/02/2022</td>\n",
              "      <td>10/11/1979</td>\n",
              "      <td>00/00/0000</td>\n",
              "    </tr>\n",
              "    <tr>\n",
              "      <th>40849</th>\n",
              "      <td>{ñ class}</td>\n",
              "      <td>000000-Não Informado</td>\n",
              "      <td>S52.5 Frat da Extremidade Distal do Radio</td>\n",
              "      <td>{ñ class}</td>\n",
              "      <td>{ñ class}</td>\n",
              "      <td>Auxílio Doenca por Acidente do Trabalho</td>\n",
              "      <td>{ñ class}</td>\n",
              "      <td>{ñ</td>\n",
              "      <td>000000-Ignorado</td>\n",
              "      <td>{ñ class}</td>\n",
              "      <td>{ñ class}</td>\n",
              "      <td>Masculino</td>\n",
              "      <td>Ignorado</td>\n",
              "      <td>Alagoas</td>\n",
              "      <td>Zerado</td>\n",
              "      <td>2022/02</td>\n",
              "      <td>2022/05</td>\n",
              "      <td>11/02/2022</td>\n",
              "      <td>09/01/1972</td>\n",
              "      <td>00/00/0000</td>\n",
              "    </tr>\n",
              "    <tr>\n",
              "      <th>40850</th>\n",
              "      <td>{ñ class}</td>\n",
              "      <td>000000-Não Informado</td>\n",
              "      <td>S62.6 Frat de Outr Dedos</td>\n",
              "      <td>{ñ class}</td>\n",
              "      <td>{ñ class}</td>\n",
              "      <td>Auxílio Doenca por Acidente do Trabalho</td>\n",
              "      <td>{ñ class}</td>\n",
              "      <td>{ñ</td>\n",
              "      <td>000000-Ignorado</td>\n",
              "      <td>{ñ class}</td>\n",
              "      <td>{ñ class}</td>\n",
              "      <td>Masculino</td>\n",
              "      <td>Ignorado</td>\n",
              "      <td>Alagoas</td>\n",
              "      <td>Zerado</td>\n",
              "      <td>2022/02</td>\n",
              "      <td>2022/07</td>\n",
              "      <td>06/02/2022</td>\n",
              "      <td>08/09/1981</td>\n",
              "      <td>00/00/0000</td>\n",
              "    </tr>\n",
              "    <tr>\n",
              "      <th>40851</th>\n",
              "      <td>{ñ class}</td>\n",
              "      <td>000000-Não Informado</td>\n",
              "      <td>G56.0 Sindr do Tunel do Carpo</td>\n",
              "      <td>{ñ class}</td>\n",
              "      <td>{ñ class}</td>\n",
              "      <td>Auxílio Doenca por Acidente do Trabalho</td>\n",
              "      <td>{ñ class}</td>\n",
              "      <td>{ñ</td>\n",
              "      <td>000000-Ignorado</td>\n",
              "      <td>{ñ class}</td>\n",
              "      <td>{ñ class}</td>\n",
              "      <td>Feminino</td>\n",
              "      <td>Ignorado</td>\n",
              "      <td>Sergipe</td>\n",
              "      <td>Zerado</td>\n",
              "      <td>2022/02</td>\n",
              "      <td>2022/05</td>\n",
              "      <td>10/02/2022</td>\n",
              "      <td>29/04/1972</td>\n",
              "      <td>00/00/0000</td>\n",
              "    </tr>\n",
              "  </tbody>\n",
              "</table>\n",
              "</div>\n",
              "      <button class=\"colab-df-convert\" onclick=\"convertToInteractive('df-fc754bc4-2d4c-413a-94f0-a8bea315c5af')\"\n",
              "              title=\"Convert this dataframe to an interactive table.\"\n",
              "              style=\"display:none;\">\n",
              "        \n",
              "  <svg xmlns=\"http://www.w3.org/2000/svg\" height=\"24px\"viewBox=\"0 0 24 24\"\n",
              "       width=\"24px\">\n",
              "    <path d=\"M0 0h24v24H0V0z\" fill=\"none\"/>\n",
              "    <path d=\"M18.56 5.44l.94 2.06.94-2.06 2.06-.94-2.06-.94-.94-2.06-.94 2.06-2.06.94zm-11 1L8.5 8.5l.94-2.06 2.06-.94-2.06-.94L8.5 2.5l-.94 2.06-2.06.94zm10 10l.94 2.06.94-2.06 2.06-.94-2.06-.94-.94-2.06-.94 2.06-2.06.94z\"/><path d=\"M17.41 7.96l-1.37-1.37c-.4-.4-.92-.59-1.43-.59-.52 0-1.04.2-1.43.59L10.3 9.45l-7.72 7.72c-.78.78-.78 2.05 0 2.83L4 21.41c.39.39.9.59 1.41.59.51 0 1.02-.2 1.41-.59l7.78-7.78 2.81-2.81c.8-.78.8-2.07 0-2.86zM5.41 20L4 18.59l7.72-7.72 1.47 1.35L5.41 20z\"/>\n",
              "  </svg>\n",
              "      </button>\n",
              "      \n",
              "  <style>\n",
              "    .colab-df-container {\n",
              "      display:flex;\n",
              "      flex-wrap:wrap;\n",
              "      gap: 12px;\n",
              "    }\n",
              "\n",
              "    .colab-df-convert {\n",
              "      background-color: #E8F0FE;\n",
              "      border: none;\n",
              "      border-radius: 50%;\n",
              "      cursor: pointer;\n",
              "      display: none;\n",
              "      fill: #1967D2;\n",
              "      height: 32px;\n",
              "      padding: 0 0 0 0;\n",
              "      width: 32px;\n",
              "    }\n",
              "\n",
              "    .colab-df-convert:hover {\n",
              "      background-color: #E2EBFA;\n",
              "      box-shadow: 0px 1px 2px rgba(60, 64, 67, 0.3), 0px 1px 3px 1px rgba(60, 64, 67, 0.15);\n",
              "      fill: #174EA6;\n",
              "    }\n",
              "\n",
              "    [theme=dark] .colab-df-convert {\n",
              "      background-color: #3B4455;\n",
              "      fill: #D2E3FC;\n",
              "    }\n",
              "\n",
              "    [theme=dark] .colab-df-convert:hover {\n",
              "      background-color: #434B5C;\n",
              "      box-shadow: 0px 1px 3px 1px rgba(0, 0, 0, 0.15);\n",
              "      filter: drop-shadow(0px 1px 2px rgba(0, 0, 0, 0.3));\n",
              "      fill: #FFFFFF;\n",
              "    }\n",
              "  </style>\n",
              "\n",
              "      <script>\n",
              "        const buttonEl =\n",
              "          document.querySelector('#df-fc754bc4-2d4c-413a-94f0-a8bea315c5af button.colab-df-convert');\n",
              "        buttonEl.style.display =\n",
              "          google.colab.kernel.accessAllowed ? 'block' : 'none';\n",
              "\n",
              "        async function convertToInteractive(key) {\n",
              "          const element = document.querySelector('#df-fc754bc4-2d4c-413a-94f0-a8bea315c5af');\n",
              "          const dataTable =\n",
              "            await google.colab.kernel.invokeFunction('convertToInteractive',\n",
              "                                                     [key], {});\n",
              "          if (!dataTable) return;\n",
              "\n",
              "          const docLinkHtml = 'Like what you see? Visit the ' +\n",
              "            '<a target=\"_blank\" href=https://colab.research.google.com/notebooks/data_table.ipynb>data table notebook</a>'\n",
              "            + ' to learn more about interactive tables.';\n",
              "          element.innerHTML = '';\n",
              "          dataTable['output_type'] = 'display_data';\n",
              "          await google.colab.output.renderOutput(dataTable, element);\n",
              "          const docLink = document.createElement('div');\n",
              "          docLink.innerHTML = docLinkHtml;\n",
              "          element.appendChild(docLink);\n",
              "        }\n",
              "      </script>\n",
              "    </div>\n",
              "  </div>\n",
              "  "
            ]
          },
          "metadata": {},
          "execution_count": 57
        }
      ]
    },
    {
      "cell_type": "code",
      "metadata": {
        "id": "7NKdYewownzG",
        "colab": {
          "base_uri": "https://localhost:8080/",
          "height": 360
        },
        "outputId": "bdaf53fa-7c59-49f9-aa1b-3ecb1913a0d3"
      },
      "source": [
        "# Faz um resumo estatístico do dataset (média, desvio padrão, mínimo, máximo e os quartis)\n",
        "dataset.describe()"
      ],
      "execution_count": null,
      "outputs": [
        {
          "output_type": "execute_result",
          "data": {
            "text/plain": [
              "                           Agente  Causador  Acidente  \\\n",
              "count                                           40852   \n",
              "unique                                            242   \n",
              "top     {ñ class}                                       \n",
              "freq                                            29787   \n",
              "\n",
              "                                                  CBO  \\\n",
              "count                                           40852   \n",
              "unique                                            862   \n",
              "top     000000-Não Informado                            \n",
              "freq                                            28718   \n",
              "\n",
              "                                               CID-10  \\\n",
              "count                                           40852   \n",
              "unique                                           1590   \n",
              "top     S62.6 Frat de Outr Dedos                        \n",
              "freq                                             2204   \n",
              "\n",
              "                                   CNAE2.0 Empregador         Emitente CAT  \\\n",
              "count                                           40852                40852   \n",
              "unique                                            528                    6   \n",
              "top     {ñ class}                                      {ñ class}             \n",
              "freq                                            29210                28844   \n",
              "\n",
              "                                 Espécie do benefício  \\\n",
              "count                                           40852   \n",
              "unique                                              5   \n",
              "top     Auxílio Doenca por Acidente do Trabalho         \n",
              "freq                                            28659   \n",
              "\n",
              "                                    Filiação Segurado Indica Óbito Acidente  \\\n",
              "count                                           40852                 40852   \n",
              "unique                                              4                     3   \n",
              "top     {ñ class}                                                       {ñ    \n",
              "freq                                            28826                 28717   \n",
              "\n",
              "                                       Munic Empr  \\\n",
              "count                                       40852   \n",
              "unique                                       1379   \n",
              "top     000000-Ignorado                             \n",
              "freq                                        29479   \n",
              "\n",
              "                                    Natureza da Lesão  \\\n",
              "count                                           40852   \n",
              "unique                                             30   \n",
              "top     {ñ class}                                       \n",
              "freq                                            28717   \n",
              "\n",
              "                                 Parte Corpo Atingida           Sexo  \\\n",
              "count                                           40852          40852   \n",
              "unique                                             46              4   \n",
              "top     {ñ class}                                      Masculino       \n",
              "freq                                            28717          27382   \n",
              "\n",
              "       Tipo do Acidente UF  Munic.  Acidente UF Munic. Empregador  \\\n",
              "count             40852                40852                40852   \n",
              "unique                4                   17                   28   \n",
              "top            Ignorado     {ñ class}         Zerado                \n",
              "freq              28616                13295                29480   \n",
              "\n",
              "       Mês Acidente Data Despacho Benefício Data Acidente Data Nascimento  \\\n",
              "count         40852                   40852         40852           40852   \n",
              "unique            2                       8            59           13168   \n",
              "top         2022/02                 2022/03    28/02/2022      03/10/1995   \n",
              "freq          22961                   13949          1531              13   \n",
              "\n",
              "       Data Emissão CAT  \n",
              "count             40852  \n",
              "unique               62  \n",
              "top          00/00/0000  \n",
              "freq              28717  "
            ],
            "text/html": [
              "\n",
              "  <div id=\"df-04c82d2f-5dd4-4c5b-b995-928deabf4cf3\">\n",
              "    <div class=\"colab-df-container\">\n",
              "      <div>\n",
              "<style scoped>\n",
              "    .dataframe tbody tr th:only-of-type {\n",
              "        vertical-align: middle;\n",
              "    }\n",
              "\n",
              "    .dataframe tbody tr th {\n",
              "        vertical-align: top;\n",
              "    }\n",
              "\n",
              "    .dataframe thead th {\n",
              "        text-align: right;\n",
              "    }\n",
              "</style>\n",
              "<table border=\"1\" class=\"dataframe\">\n",
              "  <thead>\n",
              "    <tr style=\"text-align: right;\">\n",
              "      <th></th>\n",
              "      <th>Agente  Causador  Acidente</th>\n",
              "      <th>CBO</th>\n",
              "      <th>CID-10</th>\n",
              "      <th>CNAE2.0 Empregador</th>\n",
              "      <th>Emitente CAT</th>\n",
              "      <th>Espécie do benefício</th>\n",
              "      <th>Filiação Segurado</th>\n",
              "      <th>Indica Óbito Acidente</th>\n",
              "      <th>Munic Empr</th>\n",
              "      <th>Natureza da Lesão</th>\n",
              "      <th>Parte Corpo Atingida</th>\n",
              "      <th>Sexo</th>\n",
              "      <th>Tipo do Acidente</th>\n",
              "      <th>UF  Munic.  Acidente</th>\n",
              "      <th>UF Munic. Empregador</th>\n",
              "      <th>Mês Acidente</th>\n",
              "      <th>Data Despacho Benefício</th>\n",
              "      <th>Data Acidente</th>\n",
              "      <th>Data Nascimento</th>\n",
              "      <th>Data Emissão CAT</th>\n",
              "    </tr>\n",
              "  </thead>\n",
              "  <tbody>\n",
              "    <tr>\n",
              "      <th>count</th>\n",
              "      <td>40852</td>\n",
              "      <td>40852</td>\n",
              "      <td>40852</td>\n",
              "      <td>40852</td>\n",
              "      <td>40852</td>\n",
              "      <td>40852</td>\n",
              "      <td>40852</td>\n",
              "      <td>40852</td>\n",
              "      <td>40852</td>\n",
              "      <td>40852</td>\n",
              "      <td>40852</td>\n",
              "      <td>40852</td>\n",
              "      <td>40852</td>\n",
              "      <td>40852</td>\n",
              "      <td>40852</td>\n",
              "      <td>40852</td>\n",
              "      <td>40852</td>\n",
              "      <td>40852</td>\n",
              "      <td>40852</td>\n",
              "      <td>40852</td>\n",
              "    </tr>\n",
              "    <tr>\n",
              "      <th>unique</th>\n",
              "      <td>242</td>\n",
              "      <td>862</td>\n",
              "      <td>1590</td>\n",
              "      <td>528</td>\n",
              "      <td>6</td>\n",
              "      <td>5</td>\n",
              "      <td>4</td>\n",
              "      <td>3</td>\n",
              "      <td>1379</td>\n",
              "      <td>30</td>\n",
              "      <td>46</td>\n",
              "      <td>4</td>\n",
              "      <td>4</td>\n",
              "      <td>17</td>\n",
              "      <td>28</td>\n",
              "      <td>2</td>\n",
              "      <td>8</td>\n",
              "      <td>59</td>\n",
              "      <td>13168</td>\n",
              "      <td>62</td>\n",
              "    </tr>\n",
              "    <tr>\n",
              "      <th>top</th>\n",
              "      <td>{ñ class}</td>\n",
              "      <td>000000-Não Informado</td>\n",
              "      <td>S62.6 Frat de Outr Dedos</td>\n",
              "      <td>{ñ class}</td>\n",
              "      <td>{ñ class}</td>\n",
              "      <td>Auxílio Doenca por Acidente do Trabalho</td>\n",
              "      <td>{ñ class}</td>\n",
              "      <td>{ñ</td>\n",
              "      <td>000000-Ignorado</td>\n",
              "      <td>{ñ class}</td>\n",
              "      <td>{ñ class}</td>\n",
              "      <td>Masculino</td>\n",
              "      <td>Ignorado</td>\n",
              "      <td>{ñ class}</td>\n",
              "      <td>Zerado</td>\n",
              "      <td>2022/02</td>\n",
              "      <td>2022/03</td>\n",
              "      <td>28/02/2022</td>\n",
              "      <td>03/10/1995</td>\n",
              "      <td>00/00/0000</td>\n",
              "    </tr>\n",
              "    <tr>\n",
              "      <th>freq</th>\n",
              "      <td>29787</td>\n",
              "      <td>28718</td>\n",
              "      <td>2204</td>\n",
              "      <td>29210</td>\n",
              "      <td>28844</td>\n",
              "      <td>28659</td>\n",
              "      <td>28826</td>\n",
              "      <td>28717</td>\n",
              "      <td>29479</td>\n",
              "      <td>28717</td>\n",
              "      <td>28717</td>\n",
              "      <td>27382</td>\n",
              "      <td>28616</td>\n",
              "      <td>13295</td>\n",
              "      <td>29480</td>\n",
              "      <td>22961</td>\n",
              "      <td>13949</td>\n",
              "      <td>1531</td>\n",
              "      <td>13</td>\n",
              "      <td>28717</td>\n",
              "    </tr>\n",
              "  </tbody>\n",
              "</table>\n",
              "</div>\n",
              "      <button class=\"colab-df-convert\" onclick=\"convertToInteractive('df-04c82d2f-5dd4-4c5b-b995-928deabf4cf3')\"\n",
              "              title=\"Convert this dataframe to an interactive table.\"\n",
              "              style=\"display:none;\">\n",
              "        \n",
              "  <svg xmlns=\"http://www.w3.org/2000/svg\" height=\"24px\"viewBox=\"0 0 24 24\"\n",
              "       width=\"24px\">\n",
              "    <path d=\"M0 0h24v24H0V0z\" fill=\"none\"/>\n",
              "    <path d=\"M18.56 5.44l.94 2.06.94-2.06 2.06-.94-2.06-.94-.94-2.06-.94 2.06-2.06.94zm-11 1L8.5 8.5l.94-2.06 2.06-.94-2.06-.94L8.5 2.5l-.94 2.06-2.06.94zm10 10l.94 2.06.94-2.06 2.06-.94-2.06-.94-.94-2.06-.94 2.06-2.06.94z\"/><path d=\"M17.41 7.96l-1.37-1.37c-.4-.4-.92-.59-1.43-.59-.52 0-1.04.2-1.43.59L10.3 9.45l-7.72 7.72c-.78.78-.78 2.05 0 2.83L4 21.41c.39.39.9.59 1.41.59.51 0 1.02-.2 1.41-.59l7.78-7.78 2.81-2.81c.8-.78.8-2.07 0-2.86zM5.41 20L4 18.59l7.72-7.72 1.47 1.35L5.41 20z\"/>\n",
              "  </svg>\n",
              "      </button>\n",
              "      \n",
              "  <style>\n",
              "    .colab-df-container {\n",
              "      display:flex;\n",
              "      flex-wrap:wrap;\n",
              "      gap: 12px;\n",
              "    }\n",
              "\n",
              "    .colab-df-convert {\n",
              "      background-color: #E8F0FE;\n",
              "      border: none;\n",
              "      border-radius: 50%;\n",
              "      cursor: pointer;\n",
              "      display: none;\n",
              "      fill: #1967D2;\n",
              "      height: 32px;\n",
              "      padding: 0 0 0 0;\n",
              "      width: 32px;\n",
              "    }\n",
              "\n",
              "    .colab-df-convert:hover {\n",
              "      background-color: #E2EBFA;\n",
              "      box-shadow: 0px 1px 2px rgba(60, 64, 67, 0.3), 0px 1px 3px 1px rgba(60, 64, 67, 0.15);\n",
              "      fill: #174EA6;\n",
              "    }\n",
              "\n",
              "    [theme=dark] .colab-df-convert {\n",
              "      background-color: #3B4455;\n",
              "      fill: #D2E3FC;\n",
              "    }\n",
              "\n",
              "    [theme=dark] .colab-df-convert:hover {\n",
              "      background-color: #434B5C;\n",
              "      box-shadow: 0px 1px 3px 1px rgba(0, 0, 0, 0.15);\n",
              "      filter: drop-shadow(0px 1px 2px rgba(0, 0, 0, 0.3));\n",
              "      fill: #FFFFFF;\n",
              "    }\n",
              "  </style>\n",
              "\n",
              "      <script>\n",
              "        const buttonEl =\n",
              "          document.querySelector('#df-04c82d2f-5dd4-4c5b-b995-928deabf4cf3 button.colab-df-convert');\n",
              "        buttonEl.style.display =\n",
              "          google.colab.kernel.accessAllowed ? 'block' : 'none';\n",
              "\n",
              "        async function convertToInteractive(key) {\n",
              "          const element = document.querySelector('#df-04c82d2f-5dd4-4c5b-b995-928deabf4cf3');\n",
              "          const dataTable =\n",
              "            await google.colab.kernel.invokeFunction('convertToInteractive',\n",
              "                                                     [key], {});\n",
              "          if (!dataTable) return;\n",
              "\n",
              "          const docLinkHtml = 'Like what you see? Visit the ' +\n",
              "            '<a target=\"_blank\" href=https://colab.research.google.com/notebooks/data_table.ipynb>data table notebook</a>'\n",
              "            + ' to learn more about interactive tables.';\n",
              "          element.innerHTML = '';\n",
              "          dataTable['output_type'] = 'display_data';\n",
              "          await google.colab.output.renderOutput(dataTable, element);\n",
              "          const docLink = document.createElement('div');\n",
              "          docLink.innerHTML = docLinkHtml;\n",
              "          element.appendChild(docLink);\n",
              "        }\n",
              "      </script>\n",
              "    </div>\n",
              "  </div>\n",
              "  "
            ]
          },
          "metadata": {},
          "execution_count": 58
        }
      ]
    },
    {
      "cell_type": "markdown",
      "metadata": {
        "id": "fabLTz9c_tJE"
      },
      "source": [
        "Vamos agora verificar se o dataset tem as classes balanceadas para que possamos tratar o desbalanceamento posteriormente, se necessário. Veremos que as classes 0 (não ocorrência de diabetes) e 1 (ocorrência de diabetes) estão desbalanceadas. Vamos guardar esta informação, pois possivelmente precisaremos realizar algum tipo de tratamento nas próximas etapas."
      ]
    },
    {
      "cell_type": "code",
      "metadata": {
        "id": "-j0Pa0W__tOW"
      },
      "source": [
        "# distribuição das classes\n",
        "#print(dataset.groupby('class').size())"
      ],
      "execution_count": null,
      "outputs": []
    },
    {
      "cell_type": "markdown",
      "metadata": {
        "id": "R_5Ntt3f_tTv"
      },
      "source": [
        "### 3.2. Visualizações Unimodais\n",
        "\n",
        "Vamos criar agora um histograma para cada atributo do dataset. Veremos que os atributos age, pedi e test seguem uma distribuição exponencial, e que as colunas mass e press seguem uma distribuição aproximadamente normal."
      ]
    },
    {
      "cell_type": "code",
      "metadata": {
        "id": "dK3mK65T_tYx",
        "colab": {
          "base_uri": "https://localhost:8080/",
          "height": 364
        },
        "outputId": "5100c47b-9cd0-4d42-a22c-56927b8c6938"
      },
      "source": [
        "# Histograma\n",
        "dataset.hist(figsize = (15,10))\n",
        "plt.show()"
      ],
      "execution_count": null,
      "outputs": [
        {
          "output_type": "error",
          "ename": "ValueError",
          "evalue": "ignored",
          "traceback": [
            "\u001b[0;31m---------------------------------------------------------------------------\u001b[0m",
            "\u001b[0;31mValueError\u001b[0m                                Traceback (most recent call last)",
            "\u001b[0;32m<ipython-input-60-bb320d10878b>\u001b[0m in \u001b[0;36m<cell line: 2>\u001b[0;34m()\u001b[0m\n\u001b[1;32m      1\u001b[0m \u001b[0;31m# Histograma\u001b[0m\u001b[0;34m\u001b[0m\u001b[0;34m\u001b[0m\u001b[0m\n\u001b[0;32m----> 2\u001b[0;31m \u001b[0mdataset\u001b[0m\u001b[0;34m.\u001b[0m\u001b[0mhist\u001b[0m\u001b[0;34m(\u001b[0m\u001b[0mfigsize\u001b[0m \u001b[0;34m=\u001b[0m \u001b[0;34m(\u001b[0m\u001b[0;36m15\u001b[0m\u001b[0;34m,\u001b[0m\u001b[0;36m10\u001b[0m\u001b[0;34m)\u001b[0m\u001b[0;34m)\u001b[0m\u001b[0;34m\u001b[0m\u001b[0;34m\u001b[0m\u001b[0m\n\u001b[0m\u001b[1;32m      3\u001b[0m \u001b[0mplt\u001b[0m\u001b[0;34m.\u001b[0m\u001b[0mshow\u001b[0m\u001b[0;34m(\u001b[0m\u001b[0;34m)\u001b[0m\u001b[0;34m\u001b[0m\u001b[0;34m\u001b[0m\u001b[0m\n",
            "\u001b[0;32m/usr/local/lib/python3.9/dist-packages/pandas/plotting/_core.py\u001b[0m in \u001b[0;36mhist_frame\u001b[0;34m(data, column, by, grid, xlabelsize, xrot, ylabelsize, yrot, ax, sharex, sharey, figsize, layout, bins, backend, legend, **kwargs)\u001b[0m\n\u001b[1;32m    229\u001b[0m     \"\"\"\n\u001b[1;32m    230\u001b[0m     \u001b[0mplot_backend\u001b[0m \u001b[0;34m=\u001b[0m \u001b[0m_get_plot_backend\u001b[0m\u001b[0;34m(\u001b[0m\u001b[0mbackend\u001b[0m\u001b[0;34m)\u001b[0m\u001b[0;34m\u001b[0m\u001b[0;34m\u001b[0m\u001b[0m\n\u001b[0;32m--> 231\u001b[0;31m     return plot_backend.hist_frame(\n\u001b[0m\u001b[1;32m    232\u001b[0m         \u001b[0mdata\u001b[0m\u001b[0;34m,\u001b[0m\u001b[0;34m\u001b[0m\u001b[0;34m\u001b[0m\u001b[0m\n\u001b[1;32m    233\u001b[0m         \u001b[0mcolumn\u001b[0m\u001b[0;34m=\u001b[0m\u001b[0mcolumn\u001b[0m\u001b[0;34m,\u001b[0m\u001b[0;34m\u001b[0m\u001b[0;34m\u001b[0m\u001b[0m\n",
            "\u001b[0;32m/usr/local/lib/python3.9/dist-packages/pandas/plotting/_matplotlib/hist.py\u001b[0m in \u001b[0;36mhist_frame\u001b[0;34m(data, column, by, grid, xlabelsize, xrot, ylabelsize, yrot, ax, sharex, sharey, figsize, layout, bins, legend, **kwds)\u001b[0m\n\u001b[1;32m    497\u001b[0m \u001b[0;34m\u001b[0m\u001b[0m\n\u001b[1;32m    498\u001b[0m     \u001b[0;32mif\u001b[0m \u001b[0mnaxes\u001b[0m \u001b[0;34m==\u001b[0m \u001b[0;36m0\u001b[0m\u001b[0;34m:\u001b[0m\u001b[0;34m\u001b[0m\u001b[0;34m\u001b[0m\u001b[0m\n\u001b[0;32m--> 499\u001b[0;31m         raise ValueError(\n\u001b[0m\u001b[1;32m    500\u001b[0m             \u001b[0;34m\"hist method requires numerical or datetime columns, nothing to plot.\"\u001b[0m\u001b[0;34m\u001b[0m\u001b[0;34m\u001b[0m\u001b[0m\n\u001b[1;32m    501\u001b[0m         )\n",
            "\u001b[0;31mValueError\u001b[0m: hist method requires numerical or datetime columns, nothing to plot."
          ]
        }
      ]
    },
    {
      "cell_type": "markdown",
      "metadata": {
        "id": "kObO1uuU_teC"
      },
      "source": [
        "O Gráfico de Densidade, ou Density Plot, é bem parecido com o histograma, mas com uma visualização um pouco diferente. Com ele, pode ser mais fácil identificar a distribuição do atributos do dataset. Assim como fizemos com o histograma, vamos criar um density plot para cada atributo do dataset.\n",
        "\n",
        "Veremos que muitos dos atributos têm uma distribuição distorcida. Uma transformação como a Box-Cox, que pode aproximar a distribuição de uma Normal, pode ser útil neste caso."
      ]
    },
    {
      "cell_type": "code",
      "metadata": {
        "id": "KHUaJJNK_tji"
      },
      "source": [
        "# Density Plot\n",
        "dataset.plot(kind = 'density', subplots = True, layout = (3,3), sharex = False, figsize = (15,10))\n",
        "plt.show()"
      ],
      "execution_count": null,
      "outputs": []
    },
    {
      "cell_type": "markdown",
      "metadata": {
        "id": "08IaXUcCxuj6"
      },
      "source": [
        "Vamos agora trabalhar com boxplots. No **boxblot**, a linha no centro (vermelha) representa o valor da mediana (segundo quartil ou p50). A linha abaixo é o 1o quartil (p25) e a linha acima o terceiro quartil (p75). O boxplot ajuda a ter uma ideia da dispersão dos dataset e os possíveis outliers.\n",
        "\n",
        "*OBS: Se um ponto do dataset é muito distante da média (acima de 3 desvios padrão da média), pode ser considerado outlier.*\n",
        "\n",
        "Nos gráficos bloxplot, veremos que a dispersão dos atributos do dataset é bem diferente."
      ]
    },
    {
      "cell_type": "code",
      "metadata": {
        "id": "Ctc5ftKgxurF"
      },
      "source": [
        "# Boxplot\n",
        "dataset.plot(kind = 'box', subplots = True, layout = (3,3), sharex = False, sharey = False, figsize = (15,10))\n",
        "plt.show()"
      ],
      "execution_count": null,
      "outputs": []
    },
    {
      "cell_type": "markdown",
      "metadata": {
        "id": "oMMGbjYbAe-3"
      },
      "source": [
        "### 3.3. Visualizações Multimodais\n",
        "\n",
        "Ao visualizar as correlações entre os atributos através da matriz de correlação, perceberemos que parece haver alguma estrutura na ordem dos atributos. O azul ao redor da diagonal sugere que os atributos que estão próximos um do outro são geralmente mais correlacionados entre si. Os vermelhos também sugerem alguma correlação negativa moderada, a medida que os atributos \n",
        "\n",
        "Vamos agora verificar a covariância entre as variáveis numéricas do dataset. A **covariância** representa como duas variáveis numéricas estão relacionadas. Existem várias formas de calcular a correlação entre duas variáveis, como por exemplo, o coeficiente de correlação de Pearson, que pode ser:\n",
        "* Próximo de -1 : há uma correlação negativa entre as variáveis, \n",
        "* Próximo de +1: há uma correlação positiva entre as variáveis. \n",
        "* 0: não há correlação entre as variáveis.\n",
        "\n",
        "<i>OBS: Esta informação é relevante porque alguns algoritmos como regressão linear e regressão logística podem apresentar problemas de performance se houver atributos altamente correlacionados. Vale a pena consultar a documentação do algoritmo para verificar se algum tipo de tratamento de dataset é necessário.</i>\n",
        "\n",
        "Falamos anteriormente da importância da correlação entre os atributos, e agora iremos visualizar esta informação em formato gráfico. A **matriz de correlação** exibe graficamente a correlação entre os atributos numéricos do dataset.estão mais distantes um do outro na ordenação. \n",
        "\n",
        "O código a seguir exibe a matriz de correlação."
      ]
    },
    {
      "cell_type": "code",
      "metadata": {
        "id": "xB612g0aAfE6"
      },
      "source": [
        "# Matriz de Correlação com Matplotlib Seaborn\n",
        "sns.heatmap(dataset.corr(), annot=True, cmap='RdBu');"
      ],
      "execution_count": null,
      "outputs": []
    },
    {
      "cell_type": "markdown",
      "metadata": {
        "id": "IXCUyGj3y-1F"
      },
      "source": [
        "Por sua vez, o gráfico de dispersão (**scatter plot**) mostra o relacionamento entre duas variáveis. Vamos exibir um para cada par de atributos dos dataset, usando o Seaborn."
      ]
    },
    {
      "cell_type": "code",
      "metadata": {
        "id": "JhHGrt91y-7T"
      },
      "source": [
        "# Scatter Plot com Seaborn - Variação 1\n",
        "\n",
        "sns.pairplot(dataset)"
      ],
      "execution_count": null,
      "outputs": []
    },
    {
      "cell_type": "code",
      "metadata": {
        "id": "m0seViuUy_Gr"
      },
      "source": [
        "# Scatter Plot com Seaborn - Variação 2\n",
        "\n",
        "sns.pairplot(dataset, hue = \"class\", height = 2.5);"
      ],
      "execution_count": null,
      "outputs": []
    },
    {
      "cell_type": "markdown",
      "metadata": {
        "id": "mE4-PIaTAfKX"
      },
      "source": [
        "## 4. Pré-Processamento de dados\n",
        "\n",
        "Nesta etapa, poderíamos realizar diversas operações de preparação de dados, como por exemplo, tratamento de valores missings (faltantes), limpeza de dados, transformações como one-hot-encoding, seleção de características (feature selection), entre outras não mostradas neste notebook. Lembre-se de não criar uma versão padronizada/normalizada dos dados neste momento (apesar de serem operações de pré-processamento) para evitar o Data Leakage."
      ]
    },
    {
      "cell_type": "markdown",
      "metadata": {
        "id": "REo1UJQZLuFV"
      },
      "source": [
        "### 4.1. Tratamento de Missings e Limpeza"
      ]
    },
    {
      "cell_type": "markdown",
      "metadata": {
        "id": "KhAz17RD6YP4"
      },
      "source": [
        "Sabemos que o datset Diabetes não tem missings aparentes, mas valores \"0\" que parecem ser missings. Vamos então fazer este tratamento e criar uma nova visão do nosso dataset."
      ]
    },
    {
      "cell_type": "code",
      "metadata": {
        "id": "-Utzu_kmLwWi",
        "colab": {
          "base_uri": "https://localhost:8080/"
        },
        "outputId": "98ab99f3-49ac-41ae-a499-87f76d314381"
      },
      "source": [
        "# verificando nulls no dataset\n",
        "dataset.isnull().sum()"
      ],
      "execution_count": null,
      "outputs": [
        {
          "output_type": "execute_result",
          "data": {
            "text/plain": [
              "Agente  Causador  Acidente    0\n",
              "CBO                           0\n",
              "CID-10                        0\n",
              "CNAE2.0 Empregador            0\n",
              "Emitente CAT                  0\n",
              "Espécie do benefício          0\n",
              "Filiação Segurado             0\n",
              "Indica Óbito Acidente         0\n",
              "Munic Empr                    0\n",
              "Natureza da Lesão             0\n",
              "Parte Corpo Atingida          0\n",
              "Sexo                          0\n",
              "Tipo do Acidente              0\n",
              "UF  Munic.  Acidente          0\n",
              "UF Munic. Empregador          0\n",
              "Mês Acidente                  0\n",
              "Data Despacho Benefício       0\n",
              "Data Acidente                 0\n",
              "Data Nascimento               0\n",
              "Data Emissão CAT              0\n",
              "dtype: int64"
            ]
          },
          "metadata": {},
          "execution_count": 61
        }
      ]
    },
    {
      "cell_type": "code",
      "metadata": {
        "id": "iUJ5YgRWLzjf",
        "colab": {
          "base_uri": "https://localhost:8080/",
          "height": 288
        },
        "outputId": "123df11b-ecc4-49df-f13b-a8fad079b61e"
      },
      "source": [
        "# salvando um NOVO dataset para tratamento de missings (cuidado para não sobrescrever o dataset original!)\n",
        "\n",
        "# recuperando os nomes das colunas\n",
        "col = list(dataset.columns)\n",
        "\n",
        "# o novo dataset irá conter todas as colunas com exceção da última (classe)\n",
        "atributos = dataset[col[0:-1]]\n",
        "\n",
        "# substituindo os zeros por NaN\n",
        "atributos.replace(0, np.nan, inplace=True)\n",
        "\n",
        "# exibindo visualização matricial da nulidade do dataset\n",
        "ms.matrix(atributos)"
      ],
      "execution_count": null,
      "outputs": [
        {
          "output_type": "stream",
          "name": "stderr",
          "text": [
            "<ipython-input-62-6347d325c36d>:10: SettingWithCopyWarning: \n",
            "A value is trying to be set on a copy of a slice from a DataFrame\n",
            "\n",
            "See the caveats in the documentation: https://pandas.pydata.org/pandas-docs/stable/user_guide/indexing.html#returning-a-view-versus-a-copy\n",
            "  atributos.replace(0, np.nan, inplace=True)\n"
          ]
        },
        {
          "output_type": "error",
          "ename": "NameError",
          "evalue": "ignored",
          "traceback": [
            "\u001b[0;31m---------------------------------------------------------------------------\u001b[0m",
            "\u001b[0;31mNameError\u001b[0m                                 Traceback (most recent call last)",
            "\u001b[0;32m<ipython-input-62-6347d325c36d>\u001b[0m in \u001b[0;36m<cell line: 13>\u001b[0;34m()\u001b[0m\n\u001b[1;32m     11\u001b[0m \u001b[0;34m\u001b[0m\u001b[0m\n\u001b[1;32m     12\u001b[0m \u001b[0;31m# exibindo visualização matricial da nulidade do dataset\u001b[0m\u001b[0;34m\u001b[0m\u001b[0;34m\u001b[0m\u001b[0m\n\u001b[0;32m---> 13\u001b[0;31m \u001b[0mms\u001b[0m\u001b[0;34m.\u001b[0m\u001b[0mmatrix\u001b[0m\u001b[0;34m(\u001b[0m\u001b[0matributos\u001b[0m\u001b[0;34m)\u001b[0m\u001b[0;34m\u001b[0m\u001b[0;34m\u001b[0m\u001b[0m\n\u001b[0m",
            "\u001b[0;31mNameError\u001b[0m: name 'ms' is not defined"
          ]
        }
      ]
    },
    {
      "cell_type": "code",
      "metadata": {
        "id": "7JdS5PS3MFNo"
      },
      "source": [
        "# removendo as colunas 'skin' e 'test'\n",
        "atributos.drop(['skin', 'test'], axis=1, inplace= True)\n",
        "\n",
        "# exibindo visualização matricial da nulidade do dataset\n",
        "ms.matrix(atributos)"
      ],
      "execution_count": null,
      "outputs": []
    },
    {
      "cell_type": "code",
      "metadata": {
        "id": "HlPUeOrwMJs6"
      },
      "source": [
        "# substituindo os NaN de 'preg' por 0\n",
        "atributos['preg'].fillna(0, inplace=True)\n",
        "\n",
        "# substituindo os NaN de 'plas', 'pres'e 'mass' pela mediana da coluna\n",
        "atributos['plas'].fillna(atributos['plas'].median(), inplace=True)\n",
        "atributos['pres'].fillna(atributos['pres'].median(), inplace=True)\n",
        "atributos['mass'].fillna(atributos['mass'].median(), inplace=True)\n",
        "\n",
        "# exibindo visualização matricial da nulidade do dataset\n",
        "ms.matrix(atributos)"
      ],
      "execution_count": null,
      "outputs": []
    },
    {
      "cell_type": "code",
      "metadata": {
        "id": "rvWWeIrOMdkV"
      },
      "source": [
        "# Guardando o novo dataset para testes futuros\n",
        "datasetSemMissings = atributos\n",
        "\n",
        "# incluindo a coluna 'class' no novo dataset\n",
        "datasetSemMissings['class'] = dataset['class']\n",
        "\n",
        "# exibindo as primeiras linhas\n",
        "datasetSemMissings.head()"
      ],
      "execution_count": null,
      "outputs": []
    },
    {
      "cell_type": "markdown",
      "metadata": {
        "id": "LoLQBjKl9JVD"
      },
      "source": [
        "### 4.2. Separação em conjunto de treino e conjunto de teste\n",
        "\n",
        "É uma boa prática usar um conjunto de teste (na literatura também chamado de conjunto de validação), uma amostra dos dados que não será usada para a construção do modelo, mas somente no fim do projeto para confirmar a precisão do modelo final. É um teste que podemos usar para verificar o quão boa foi a construção do modelo, e para nos dar uma ideia de como o modelo irá performar nas estimativas em dados não vistos. Usaremos 80% do conjunto de dados para modelagem e guardaremos 20% para teste, usando a estratégia train-test-split, já explicada anteriormente. Primeiramente, iremos sinalizar quais são as colunas de atributos (X - 0 a 7) e qual é a coluna das classes (Y - 8). Em seguida, especificaremos o tamanho do conjunto de teste desejado e uma semente (para garantir a reprodutibilidade dos resultados). Finalmente, faremos a separação dos conjuntos de treino e teste através do comando train_test_split, que retornará 4 estruturas de dados: os atributos e classes para o conjunto de teste e os atributos e classes para o conjunto de treino.\n"
      ]
    },
    {
      "cell_type": "code",
      "metadata": {
        "id": "fEiAm3LEAfPt"
      },
      "source": [
        "test_size = 0.20\n",
        "seed = 7\n",
        "\n",
        "# Separação em conjuntos de treino e teste (dataset original)\n",
        "array = dataset.values\n",
        "X = array[:,0:8]\n",
        "y = array[:,8]\n",
        "#X_train, X_test, y_train, y_test = train_test_split(X, y,\n",
        "#    test_size=test_size, shuffle=True, random_state=seed) # sem estratificação\n",
        "X_train, X_test, y_train, y_test = train_test_split(X, y,\n",
        "    test_size=test_size, shuffle=True, random_state=seed, stratify=y) # com estratificação"
      ],
      "execution_count": null,
      "outputs": []
    },
    {
      "cell_type": "code",
      "source": [
        "# Separação em conjuntos de treino e teste (dataset sem missings - 2 colunas a menos!)\n",
        "array = datasetSemMissings.values\n",
        "X_sm = array[:,0:6]\n",
        "y_sm = array[:,6]\n",
        "#X_train_sm, X_test_sm, y_train_sm, y_test_sm = train_test_split(X_sm, y_sm,\n",
        "#    test_size=test_size, shuffle=True, random_state=seed) # sem estratificação\n",
        "X_train_sm, X_test_sm, y_train_sm, y_test_sm = train_test_split(X_sm, y_sm,\n",
        "    test_size=test_size, shuffle=True, random_state=seed, stratify=y_sm) # com estratificação"
      ],
      "metadata": {
        "id": "rSw6CMTJDwld"
      },
      "execution_count": null,
      "outputs": []
    }
  ]
}